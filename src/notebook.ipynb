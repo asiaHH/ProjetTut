{
 "cells": [
  {
   "cell_type": "markdown",
   "metadata": {},
   "source": [
    "# Open Food Facts : Étude des produits alimentaires\n",
    "\n",
    "*Analyse approfondi des produits alimentaires via des analyses et des visualisations adaptées aux besoins des professionnels du secteur*  \n",
    "*Projet Tutoré - Université de Bourgogne (mars 2025)*"
   ]
  },
  {
   "cell_type": "markdown",
   "metadata": {},
   "source": [
    "---"
   ]
  },
  {
   "cell_type": "markdown",
   "metadata": {},
   "source": [
    "Ce notebook explore les données d'Open Food Facts, une base de données collaborative et ouverte sur les produits alimentaires du monde entier. Il est conçu pour fournir des informations et des analyses pertinentes aux spécialistes de l'alimentation, en particulier les nutritionnistes, les diététiciens et les professionnels de l'industrie agroalimentaire. Les données disponibles incluent des informations détaillées sur la composition nutritionnelle, les ingrédients, les labels, l'impact environnemental et bien plus encore. Ce notebook a pour but de fournir une interface interactive afin de faciliter l'exploration de ces données.\""
   ]
  },
  {
   "cell_type": "markdown",
   "metadata": {},
   "source": [
    "\n",
    "\n",
    "**Ce notebook contient 4 parties :**\n",
    "\n",
    "1. **Connexion a la base de données** : Importation des bibliothèques requises pour effectuer les analyses et connexion a la base de données comportant les données Open Food Facts.\n",
    "2. **Analyse des données** : Analyse de valeurs nutritionnelles, impact environnemental...\n",
    "3. **Visualisation des données** : Création de graphiques pour illustrer les résultats des analyses.\n",
    "4. **Modélisation et analyse avancée** : Application de méthodes d'algorithmes d'intelligence artificielle.\n",
    "\n",
    "### Utilisation :\n",
    "Le notebook est conçu pour être interactif, permettant aux spécialistes de l'alimentaire de personnaliser les analyses selon leurs besoins. Ils peuvent ajuster les paramètres des requêtes et des visualisations pour obtenir des résultats spécifiques à leurs critères.  \n",
    "Les données d'Open Food Facts sont une ressource précieuse pour comprendre les tendances de l'alimentation, évaluer la qualité nutritionnelle des produits et analyser l'impact environnemental de notre consommation. Nous utiliserons des visualisations et des analyses statistiques pour mettre en évidence les informations clés.\n",
    "\n"
   ]
  },
  {
   "cell_type": "markdown",
   "metadata": {},
   "source": [
    "### 1 - Importation et connexion à la base de données"
   ]
  },
  {
   "cell_type": "markdown",
   "metadata": {},
   "source": [
    "Tout d'abord, pour exécuter les requêtes d'analyse, il est nécessaire de se connecter à la base de données contenant les informations des produits alimentaires et d'importer les bibliothèques requises."
   ]
  },
  {
   "cell_type": "markdown",
   "metadata": {},
   "source": [
    "Les données Open Food Facts sont stockées dans une base de données PostgreSQL et les requêtes seront effectues sur cette base. Les données ont deja ete nettoyes et filtrer lors de l'importation dans la base de données."
   ]
  },
  {
   "cell_type": "code",
   "execution_count": null,
   "metadata": {},
   "outputs": [],
   "source": [
    "#les librairies a installer \n",
    "pip install psycopg2\n",
    "pip install pandas\n",
    "pip install scikit-learn\n",
    "pip install matplotlib\n",
    "pip install numpy\n",
    "pip install seaborn  \n",
    "pip install statsmodels"
   ]
  },
  {
   "cell_type": "code",
   "execution_count": 2,
   "metadata": {},
   "outputs": [],
   "source": [
    "import pandas as pd\n",
    "import numpy as np\n",
    "import matplotlib.pyplot as plt\n",
    "import seaborn as sns\n",
    "import statsmodels.formula.api as sm\n",
    "import re\n",
    "from datetime import datetime\n",
    "from pandas import Series, DataFrame\n",
    "%matplotlib inline\n"
   ]
  },
  {
   "cell_type": "code",
   "execution_count": 3,
   "metadata": {},
   "outputs": [
    {
     "name": "stdout",
     "output_type": "stream",
     "text": [
      "Connexion réussie à la base de données\n"
     ]
    }
   ],
   "source": [
    "import psycopg2\n",
    "import pandas as pd\n",
    "\n",
    "# Connexion à la base de données PostgreSQL\n",
    "try:\n",
    "    connection = psycopg2.connect( # Remplacez par le nom de votre base\n",
    "        user=\"gb232322\",                # Utilisateur\n",
    "        password=\"gb232322\",  # Remplacez par votre mot de passe\n",
    "        host=\"kafka\",               # Hôte (dans ce cas, \"kafka\")\n",
    "        port=\"5432\"                 # Port PostgreSQL par défaut\n",
    "    )\n",
    "    print(\"Connexion réussie à la base de données\")\n",
    "except Exception as e:\n",
    "    print(f\"Erreur lors de la connexion : {e}\")"
   ]
  },
  {
   "cell_type": "markdown",
   "metadata": {},
   "source": [
    "Ci-dessous un apercu des données d'un produit:"
   ]
  },
  {
   "cell_type": "code",
   "execution_count": 17,
   "metadata": {},
   "outputs": [
    {
     "name": "stderr",
     "output_type": "stream",
     "text": [
      "/tmp/ipykernel_661981/1176970461.py:3: UserWarning: pandas only supports SQLAlchemy connectable (engine/connection) or database string URI or sqlite3 DBAPI2 connection. Other DBAPI2 objects are not tested. Please consider using SQLAlchemy.\n",
      "  df = pd.read_sql(query, connection)\n"
     ]
    },
    {
     "data": {
      "text/html": [
       "<div>\n",
       "<style scoped>\n",
       "    .dataframe tbody tr th:only-of-type {\n",
       "        vertical-align: middle;\n",
       "    }\n",
       "\n",
       "    .dataframe tbody tr th {\n",
       "        vertical-align: top;\n",
       "    }\n",
       "\n",
       "    .dataframe thead th {\n",
       "        text-align: right;\n",
       "    }\n",
       "</style>\n",
       "<table border=\"1\" class=\"dataframe\">\n",
       "  <thead>\n",
       "    <tr style=\"text-align: right;\">\n",
       "      <th></th>\n",
       "      <th>count</th>\n",
       "    </tr>\n",
       "  </thead>\n",
       "  <tbody>\n",
       "    <tr>\n",
       "      <th>0</th>\n",
       "      <td>3753262</td>\n",
       "    </tr>\n",
       "  </tbody>\n",
       "</table>\n",
       "</div>"
      ],
      "text/plain": [
       "     count\n",
       "0  3753262"
      ]
     },
     "execution_count": 17,
     "metadata": {},
     "output_type": "execute_result"
    }
   ],
   "source": [
    "#requete qui affiche le nombre de ligne de la table ProductInfos\n",
    "query = \"SELECT COUNT(*) FROM off_product_infos\"\n",
    "df = pd.read_sql(query, connection)\n",
    "df.head()"
   ]
  },
  {
   "cell_type": "markdown",
   "metadata": {},
   "source": [
    "Notre table ProductInfos contient 3 753 262 lignes."
   ]
  },
  {
   "cell_type": "code",
   "execution_count": 18,
   "metadata": {},
   "outputs": [
    {
     "name": "stderr",
     "output_type": "stream",
     "text": [
      "/tmp/ipykernel_661981/3861151703.py:3: UserWarning: pandas only supports SQLAlchemy connectable (engine/connection) or database string URI or sqlite3 DBAPI2 connection. Other DBAPI2 objects are not tested. Please consider using SQLAlchemy.\n",
      "  df = pd.read_sql(query, connection)\n"
     ]
    },
    {
     "data": {
      "text/html": [
       "<div>\n",
       "<style scoped>\n",
       "    .dataframe tbody tr th:only-of-type {\n",
       "        vertical-align: middle;\n",
       "    }\n",
       "\n",
       "    .dataframe tbody tr th {\n",
       "        vertical-align: top;\n",
       "    }\n",
       "\n",
       "    .dataframe thead th {\n",
       "        text-align: right;\n",
       "    }\n",
       "</style>\n",
       "<table border=\"1\" class=\"dataframe\">\n",
       "  <thead>\n",
       "    <tr style=\"text-align: right;\">\n",
       "      <th></th>\n",
       "      <th>id</th>\n",
       "      <th>code</th>\n",
       "      <th>url</th>\n",
       "      <th>product_name</th>\n",
       "      <th>abbreviated_product_name</th>\n",
       "      <th>generic_name</th>\n",
       "      <th>owner</th>\n",
       "      <th>image_url</th>\n",
       "    </tr>\n",
       "  </thead>\n",
       "  <tbody>\n",
       "    <tr>\n",
       "      <th>0</th>\n",
       "      <td>1</td>\n",
       "      <td>000000000054</td>\n",
       "      <td>http://world-fr.openfoodfacts.org/produit/0000...</td>\n",
       "      <td>Limonade artisanale a la rose</td>\n",
       "      <td>None</td>\n",
       "      <td>None</td>\n",
       "      <td>None</td>\n",
       "      <td>https://images.openfoodfacts.org/images/produc...</td>\n",
       "    </tr>\n",
       "    <tr>\n",
       "      <th>1</th>\n",
       "      <td>2</td>\n",
       "      <td>000000000063</td>\n",
       "      <td>http://world-fr.openfoodfacts.org/produit/0000...</td>\n",
       "      <td>Mozzarella Schnittfest Gerieben 45% Fett</td>\n",
       "      <td>None</td>\n",
       "      <td>None</td>\n",
       "      <td>None</td>\n",
       "      <td>https://images.openfoodfacts.org/images/produc...</td>\n",
       "    </tr>\n",
       "    <tr>\n",
       "      <th>2</th>\n",
       "      <td>3</td>\n",
       "      <td>000000000114</td>\n",
       "      <td>http://world-fr.openfoodfacts.org/produit/0000...</td>\n",
       "      <td>Chocolate n 3</td>\n",
       "      <td>None</td>\n",
       "      <td>None</td>\n",
       "      <td>None</td>\n",
       "      <td>https://images.openfoodfacts.org/images/produc...</td>\n",
       "    </tr>\n",
       "    <tr>\n",
       "      <th>3</th>\n",
       "      <td>4</td>\n",
       "      <td>00000001</td>\n",
       "      <td>http://world-fr.openfoodfacts.org/produit/0000...</td>\n",
       "      <td>Poulet fermier</td>\n",
       "      <td>None</td>\n",
       "      <td>None</td>\n",
       "      <td>None</td>\n",
       "      <td>https://images.openfoodfacts.org/images/produc...</td>\n",
       "    </tr>\n",
       "    <tr>\n",
       "      <th>4</th>\n",
       "      <td>5</td>\n",
       "      <td>0000000105</td>\n",
       "      <td>http://world-fr.openfoodfacts.org/produit/0000...</td>\n",
       "      <td>Paleta gran reserva - Sierra nevada</td>\n",
       "      <td>None</td>\n",
       "      <td>None</td>\n",
       "      <td>None</td>\n",
       "      <td>https://images.openfoodfacts.org/images/produc...</td>\n",
       "    </tr>\n",
       "  </tbody>\n",
       "</table>\n",
       "</div>"
      ],
      "text/plain": [
       "   id          code                                                url  \\\n",
       "0   1  000000000054  http://world-fr.openfoodfacts.org/produit/0000...   \n",
       "1   2  000000000063  http://world-fr.openfoodfacts.org/produit/0000...   \n",
       "2   3  000000000114  http://world-fr.openfoodfacts.org/produit/0000...   \n",
       "3   4      00000001  http://world-fr.openfoodfacts.org/produit/0000...   \n",
       "4   5    0000000105  http://world-fr.openfoodfacts.org/produit/0000...   \n",
       "\n",
       "                               product_name abbreviated_product_name  \\\n",
       "0             Limonade artisanale a la rose                     None   \n",
       "1  Mozzarella Schnittfest Gerieben 45% Fett                     None   \n",
       "2                             Chocolate n 3                     None   \n",
       "3                            Poulet fermier                     None   \n",
       "4       Paleta gran reserva - Sierra nevada                     None   \n",
       "\n",
       "  generic_name owner                                          image_url  \n",
       "0         None  None  https://images.openfoodfacts.org/images/produc...  \n",
       "1         None  None  https://images.openfoodfacts.org/images/produc...  \n",
       "2         None  None  https://images.openfoodfacts.org/images/produc...  \n",
       "3         None  None  https://images.openfoodfacts.org/images/produc...  \n",
       "4         None  None  https://images.openfoodfacts.org/images/produc...  "
      ]
     },
     "execution_count": 18,
     "metadata": {},
     "output_type": "execute_result"
    }
   ],
   "source": [
    "#requete qui affiche les 5 premières lignes de la table ProductInfos\n",
    "query = \"SELECT * FROM off_product_infos LIMIT 5\"\n",
    "df = pd.read_sql(query, connection)\n",
    "df.head()"
   ]
  },
  {
   "cell_type": "code",
   "execution_count": 22,
   "metadata": {},
   "outputs": [
    {
     "name": "stderr",
     "output_type": "stream",
     "text": [
      "/tmp/ipykernel_661981/1240036014.py:3: UserWarning: pandas only supports SQLAlchemy connectable (engine/connection) or database string URI or sqlite3 DBAPI2 connection. Other DBAPI2 objects are not tested. Please consider using SQLAlchemy.\n",
      "  df = pd.read_sql(query, connection)\n"
     ]
    },
    {
     "data": {
      "text/html": [
       "<div>\n",
       "<style scoped>\n",
       "    .dataframe tbody tr th:only-of-type {\n",
       "        vertical-align: middle;\n",
       "    }\n",
       "\n",
       "    .dataframe tbody tr th {\n",
       "        vertical-align: top;\n",
       "    }\n",
       "\n",
       "    .dataframe thead th {\n",
       "        text-align: right;\n",
       "    }\n",
       "</style>\n",
       "<table border=\"1\" class=\"dataframe\">\n",
       "  <thead>\n",
       "    <tr style=\"text-align: right;\">\n",
       "      <th></th>\n",
       "      <th>id</th>\n",
       "      <th>brands_tags</th>\n",
       "      <th>brand_owner</th>\n",
       "    </tr>\n",
       "  </thead>\n",
       "  <tbody>\n",
       "    <tr>\n",
       "      <th>0</th>\n",
       "      <td>2</td>\n",
       "      <td>gut-gunstig</td>\n",
       "      <td>None</td>\n",
       "    </tr>\n",
       "    <tr>\n",
       "      <th>1</th>\n",
       "      <td>3</td>\n",
       "      <td>jeff-de-bruges</td>\n",
       "      <td>None</td>\n",
       "    </tr>\n",
       "    <tr>\n",
       "      <th>2</th>\n",
       "      <td>4</td>\n",
       "      <td>nortembio</td>\n",
       "      <td>None</td>\n",
       "    </tr>\n",
       "    <tr>\n",
       "      <th>3</th>\n",
       "      <td>5</td>\n",
       "      <td>advocare</td>\n",
       "      <td>None</td>\n",
       "    </tr>\n",
       "    <tr>\n",
       "      <th>4</th>\n",
       "      <td>6</td>\n",
       "      <td>lakanto</td>\n",
       "      <td>None</td>\n",
       "    </tr>\n",
       "  </tbody>\n",
       "</table>\n",
       "</div>"
      ],
      "text/plain": [
       "   id     brands_tags brand_owner\n",
       "0   2     gut-gunstig        None\n",
       "1   3  jeff-de-bruges        None\n",
       "2   4       nortembio        None\n",
       "3   5        advocare        None\n",
       "4   6         lakanto        None"
      ]
     },
     "execution_count": 22,
     "metadata": {},
     "output_type": "execute_result"
    }
   ],
   "source": [
    "#requete qui affiche les 5 premières lignes de la table off_brands_infos\n",
    "query = \"SELECT * FROM off_brands_infos LIMIT 5\"\n",
    "df = pd.read_sql(query, connection)\n",
    "df.head()"
   ]
  },
  {
   "cell_type": "markdown",
   "metadata": {},
   "source": [
    "Il est possible de consulter le contenu des autres tables, il suffit de remplacer le nom de la table dans la requête ci-dessus :  \n",
    " **query = \"SELECT * FROM nom_de_la_table LIMIT nb_ligne\"**.  \n",
    "Les tables disponibles dans la base de données sont les suivantes:  \n",
    "### 1. **product_infos**\n",
    "   Cette table contient des informations de base sur les produits alimentaires.\n",
    "   - **code**\n",
    "   - **url**\n",
    "   - **product_name**\n",
    "   - **abbreviated_product_name**\n",
    "   - **generic_name**\n",
    "   - **owner**\n",
    "   - **image_url**\n",
    "\n",
    "### 2. **brands_infos**\n",
    "   Cette table regroupe des informations sur les marques.\n",
    "   - **brands_tags**\n",
    "   - **brand_owner**\n",
    "\n",
    "### 3. **metadata_infos**\n",
    "   Contient des informations sur la création et la modification des données.\n",
    "   - **creator**\n",
    "   - **created_datetime**\n",
    "   - **last_modified_datetime**\n",
    "   - **last_modified_by**\n",
    "   - **last_updated_datetime**\n",
    "   - **last_image_datetime**\n",
    "\n",
    "### 4. **nova_infos**\n",
    "   Détient des informations concernant la classification NOVA des produits alimentaires.\n",
    "   - **nova_group**\n",
    "   - **pnns_groups_1**\n",
    "   - **pnns_groups_2**\n",
    "\n",
    "### 5. **environmental_infos**\n",
    "   Contient des données environnementales, notamment les scores d'impact écologique.\n",
    "   - **environmental_score_grade**\n",
    "   - **environmental_score_score**\n",
    "   - **carbon_footprint_100g**\n",
    "   - **carbon_footprint_from_meat_or_fish_100g**\n",
    "\n",
    "### 6. **nutritional_infos**\n",
    "   Informations sur la qualité nutritionnelle des produits alimentaires.\n",
    "   - **nutriscore_grade**\n",
    "   - **nutriscore_score**\n",
    "\n",
    "### 7. **categories**\n",
    "   Contient des informations sur les catégories alimentaires.\n",
    "   - **categories_tags**\n",
    "\n",
    "### 8. **origins**\n",
    "   Détient des informations sur l'origine des produits.\n",
    "   - **origins_tags**\n",
    "\n",
    "### 9. **labels**\n",
    "   Contient des informations sur les labels des produits.\n",
    "   - **labels_tags**\n",
    "\n",
    "### 10. **purchase_places**\n",
    "   Cette table contient des informations sur les lieux d'achat des produits.\n",
    "   - **countries_fr**\n",
    "\n",
    "### 11. **ingredients**\n",
    "   Contient des informations sur les ingrédients des produits.\n",
    "   - **ingredients_tags**\n",
    "\n",
    "### 12. **ingredients_anal**\n",
    "   Donne des détails sur l'analyse des ingrédients.\n",
    "   - **ingredients_analysis_tags**\n",
    "\n",
    "### 13. **packaging**\n",
    "   Contient des informations sur l'emballage des produits.\n",
    "   - **packaging_tags**\n",
    "\n",
    "### 14. **nutrient_tags**\n",
    "   Détient des informations sur les niveaux de nutriments.\n",
    "   - **nutrient_levels_tags**\n",
    "\n",
    "### 15. **allergens**\n",
    "   Informations sur les allergènes présents dans les produits.\n",
    "   - **allergens**\n",
    "\n",
    "### 16. **traces**\n",
    "   Contient des informations sur les traces d'autres substances dans les produits.\n",
    "   - **traces_tags**\n",
    "\n",
    "### 17. **additives**\n",
    "   Informations sur les additifs présents dans les produits.\n",
    "   - **additives_tags**\n",
    "\n",
    "### 18. **food_groups**\n",
    "   Cette table regroupe des informations sur les groupes alimentaires.\n",
    "   - **food_groups_tags**\n",
    "\n",
    "### 19. **nutritional_values**\n",
    "   Contient des informations détaillées sur la composition nutritionnelle des produits.\n",
    "   - energy_kj_100g, energy_kcal_100g, energy_100g, energy_from_fat_100g, fat_100g, saturated_fat_100g, butyric_acid_100g, caproic_acid_100g, caprylic_acid_100g, capric_acid_100g, lauric_acid_100g, myristic_acid_100g, palmitic_acid_100g, stearic_acid_100g, arachidic_acid_100g, behenic_acid_100g, lignoceric_acid_100g, cerotic_acid_100g, montanic_acid_100g, melissic_acid_100g, unsaturated_fat_100g, monounsaturated_fat_100g, omega_9_fat_100g, polyunsaturated_fat_100g, omega_3_fat_100g, omega_6_fat_100g, alpha_linolenic_acid_100g, eicosapentaenoic_acid_100g, docosahexaenoic_acid_100g, linoleic_acid_100g, arachidonic_acid_100g, gamma_linolenic_acid_100g, dihomo_gamma_linolenic_acid_100g, oleic_acid_100g, elaidic_acid_100g, gondoic_acid_100g, mead_acid_100g, erucic_acid_100g, nervonic_acid_100g, trans_fat_100g, cholesterol_100g, carbohydrates_100g, sugars_100g, added_sugars_100g, sucrose_100g, glucose_100g, fructose_100g, lactose_100g, maltose_100g, maltodextrins_100g, starch_100g, polyols_100g, erythritol_100g, fiber_100g, soluble_fiber_100g, insoluble_fiber_100g, proteins_100g, casein_100g, serum_proteins_100g, nucleotides_100g, salt_100g, added_salt_100g, sodium_100g, alcohol_100g, vitamin_a_100g, beta_carotene_100g, vitamin_d_100g, vitamin_e_100g, vitamin_k_100g, vitamin_c_100g, vitamin_b1_100g, vitamin_b2_100g, vitamin_pp_100g, vitamin_b6_100g, vitamin_b9_100g, folates_100g, vitamin_b12_100g, biotin_100g, pantothenic_acid_100g, silica_100g, bicarbonate_100g, potassium_100g, chloride_100g, calcium_100g, phosphorus_100g, iron_100g, magnesium_100g, zinc_100g, copper_100g, manganese_100g, fluoride_100g, selenium_100g, chromium_100g, molybdenum_100g, iodine_100g, caffeine_100g, taurine_100g, ph_100g, fruits_vegetables_nuts_100g, fruits_vegetables_nuts_dried_100g, fruits_vegetables_nuts_estimate_100g, fruits_vegetables_nuts_estimate_from_ingredients_100g, collagen_meat_protein_ratio_100g, cocoa_100g, chlorophyl_100g, glycemic_index_100g, water_hardness_100g, choline_100g, phylloquinone_100g, beta_glucan_100g, inositol_100g, carnitine_100g, sulphate_100g, nitrate_100g, acidity_100g"
   ]
  },
  {
   "cell_type": "markdown",
   "metadata": {},
   "source": [
    "---"
   ]
  },
  {
   "cell_type": "markdown",
   "metadata": {},
   "source": [
    "## Analyse Nutritionelle"
   ]
  },
  {
   "cell_type": "markdown",
   "metadata": {},
   "source": [
    "\n",
    "Cette section se concentre sur l'analyse des valeurs nutritionnelles des produits. Nous examinerons la distribution des **macronutriments** (lipides, glucides, protéines), la teneur en vitamines et minéraux, et la présence de composants spécifiques tels que les acides gras, les sucres ajoutés et les fibres."
   ]
  },
  {
   "cell_type": "markdown",
   "metadata": {},
   "source": [
    "### Rappel des valeurs nutritionnelles disponibles"
   ]
  },
  {
   "cell_type": "markdown",
   "metadata": {},
   "source": [
    "Vous trouverez ci-dessous un apercu des valeurs nutritionnelles disponibles dans cette base de données. Pour modifier les requêtes et analyser d'autres nutriments, il suffit de copier-coller le nom correspondant en veillant à conserver l'orthographe et les majuscules/minuscules."
   ]
  },
  {
   "cell_type": "code",
   "execution_count": 25,
   "metadata": {},
   "outputs": [
    {
     "name": "stderr",
     "output_type": "stream",
     "text": [
      "/tmp/ipykernel_661981/755756657.py:3: UserWarning: pandas only supports SQLAlchemy connectable (engine/connection) or database string URI or sqlite3 DBAPI2 connection. Other DBAPI2 objects are not tested. Please consider using SQLAlchemy.\n",
      "  df = pd.read_sql(query, connection)\n"
     ]
    },
    {
     "data": {
      "text/html": [
       "<div>\n",
       "<style scoped>\n",
       "    .dataframe tbody tr th:only-of-type {\n",
       "        vertical-align: middle;\n",
       "    }\n",
       "\n",
       "    .dataframe tbody tr th {\n",
       "        vertical-align: top;\n",
       "    }\n",
       "\n",
       "    .dataframe thead th {\n",
       "        text-align: right;\n",
       "    }\n",
       "</style>\n",
       "<table border=\"1\" class=\"dataframe\">\n",
       "  <thead>\n",
       "    <tr style=\"text-align: right;\">\n",
       "      <th></th>\n",
       "      <th>id</th>\n",
       "      <th>energy_kj_100g</th>\n",
       "      <th>energy_kcal_100g</th>\n",
       "      <th>energy_100g</th>\n",
       "      <th>energy_from_fat_100g</th>\n",
       "      <th>fat_100g</th>\n",
       "      <th>saturated_fat_100g</th>\n",
       "      <th>butyric_acid_100g</th>\n",
       "      <th>caproic_acid_100g</th>\n",
       "      <th>caprylic_acid_100g</th>\n",
       "      <th>...</th>\n",
       "      <th>glycemic_index_100g</th>\n",
       "      <th>water_hardness_100g</th>\n",
       "      <th>choline_100g</th>\n",
       "      <th>phylloquinone_100g</th>\n",
       "      <th>beta_glucan_100g</th>\n",
       "      <th>inositol_100g</th>\n",
       "      <th>carnitine_100g</th>\n",
       "      <th>sulphate_100g</th>\n",
       "      <th>nitrate_100g</th>\n",
       "      <th>acidity_100g</th>\n",
       "    </tr>\n",
       "  </thead>\n",
       "  <tbody>\n",
       "    <tr>\n",
       "      <th>0</th>\n",
       "      <td>1</td>\n",
       "      <td>NaN</td>\n",
       "      <td>NaN</td>\n",
       "      <td>NaN</td>\n",
       "      <td>None</td>\n",
       "      <td>NaN</td>\n",
       "      <td>NaN</td>\n",
       "      <td>None</td>\n",
       "      <td>None</td>\n",
       "      <td>None</td>\n",
       "      <td>...</td>\n",
       "      <td>None</td>\n",
       "      <td>None</td>\n",
       "      <td>None</td>\n",
       "      <td>None</td>\n",
       "      <td>None</td>\n",
       "      <td>None</td>\n",
       "      <td>None</td>\n",
       "      <td>None</td>\n",
       "      <td>None</td>\n",
       "      <td>None</td>\n",
       "    </tr>\n",
       "    <tr>\n",
       "      <th>1</th>\n",
       "      <td>2</td>\n",
       "      <td>NaN</td>\n",
       "      <td>332.0</td>\n",
       "      <td>1389.0</td>\n",
       "      <td>None</td>\n",
       "      <td>25.0</td>\n",
       "      <td>17.3</td>\n",
       "      <td>None</td>\n",
       "      <td>None</td>\n",
       "      <td>None</td>\n",
       "      <td>...</td>\n",
       "      <td>None</td>\n",
       "      <td>None</td>\n",
       "      <td>None</td>\n",
       "      <td>None</td>\n",
       "      <td>None</td>\n",
       "      <td>None</td>\n",
       "      <td>None</td>\n",
       "      <td>None</td>\n",
       "      <td>None</td>\n",
       "      <td>None</td>\n",
       "    </tr>\n",
       "    <tr>\n",
       "      <th>2</th>\n",
       "      <td>3</td>\n",
       "      <td>2415.0</td>\n",
       "      <td>NaN</td>\n",
       "      <td>2415.0</td>\n",
       "      <td>None</td>\n",
       "      <td>44.0</td>\n",
       "      <td>28.0</td>\n",
       "      <td>None</td>\n",
       "      <td>None</td>\n",
       "      <td>None</td>\n",
       "      <td>...</td>\n",
       "      <td>None</td>\n",
       "      <td>None</td>\n",
       "      <td>None</td>\n",
       "      <td>None</td>\n",
       "      <td>None</td>\n",
       "      <td>None</td>\n",
       "      <td>None</td>\n",
       "      <td>None</td>\n",
       "      <td>None</td>\n",
       "      <td>None</td>\n",
       "    </tr>\n",
       "    <tr>\n",
       "      <th>3</th>\n",
       "      <td>4</td>\n",
       "      <td>NaN</td>\n",
       "      <td>NaN</td>\n",
       "      <td>NaN</td>\n",
       "      <td>None</td>\n",
       "      <td>NaN</td>\n",
       "      <td>NaN</td>\n",
       "      <td>None</td>\n",
       "      <td>None</td>\n",
       "      <td>None</td>\n",
       "      <td>...</td>\n",
       "      <td>None</td>\n",
       "      <td>None</td>\n",
       "      <td>None</td>\n",
       "      <td>None</td>\n",
       "      <td>None</td>\n",
       "      <td>None</td>\n",
       "      <td>None</td>\n",
       "      <td>None</td>\n",
       "      <td>None</td>\n",
       "      <td>None</td>\n",
       "    </tr>\n",
       "    <tr>\n",
       "      <th>4</th>\n",
       "      <td>5</td>\n",
       "      <td>NaN</td>\n",
       "      <td>NaN</td>\n",
       "      <td>NaN</td>\n",
       "      <td>None</td>\n",
       "      <td>NaN</td>\n",
       "      <td>NaN</td>\n",
       "      <td>None</td>\n",
       "      <td>None</td>\n",
       "      <td>None</td>\n",
       "      <td>...</td>\n",
       "      <td>None</td>\n",
       "      <td>None</td>\n",
       "      <td>None</td>\n",
       "      <td>None</td>\n",
       "      <td>None</td>\n",
       "      <td>None</td>\n",
       "      <td>None</td>\n",
       "      <td>None</td>\n",
       "      <td>None</td>\n",
       "      <td>None</td>\n",
       "    </tr>\n",
       "  </tbody>\n",
       "</table>\n",
       "<p>5 rows × 116 columns</p>\n",
       "</div>"
      ],
      "text/plain": [
       "   id  energy_kj_100g  energy_kcal_100g  energy_100g energy_from_fat_100g  \\\n",
       "0   1             NaN               NaN          NaN                 None   \n",
       "1   2             NaN             332.0       1389.0                 None   \n",
       "2   3          2415.0               NaN       2415.0                 None   \n",
       "3   4             NaN               NaN          NaN                 None   \n",
       "4   5             NaN               NaN          NaN                 None   \n",
       "\n",
       "   fat_100g  saturated_fat_100g butyric_acid_100g caproic_acid_100g  \\\n",
       "0       NaN                 NaN              None              None   \n",
       "1      25.0                17.3              None              None   \n",
       "2      44.0                28.0              None              None   \n",
       "3       NaN                 NaN              None              None   \n",
       "4       NaN                 NaN              None              None   \n",
       "\n",
       "  caprylic_acid_100g  ... glycemic_index_100g water_hardness_100g  \\\n",
       "0               None  ...                None                None   \n",
       "1               None  ...                None                None   \n",
       "2               None  ...                None                None   \n",
       "3               None  ...                None                None   \n",
       "4               None  ...                None                None   \n",
       "\n",
       "  choline_100g phylloquinone_100g beta_glucan_100g inositol_100g  \\\n",
       "0         None               None             None          None   \n",
       "1         None               None             None          None   \n",
       "2         None               None             None          None   \n",
       "3         None               None             None          None   \n",
       "4         None               None             None          None   \n",
       "\n",
       "  carnitine_100g sulphate_100g nitrate_100g acidity_100g  \n",
       "0           None          None         None         None  \n",
       "1           None          None         None         None  \n",
       "2           None          None         None         None  \n",
       "3           None          None         None         None  \n",
       "4           None          None         None         None  \n",
       "\n",
       "[5 rows x 116 columns]"
      ]
     },
     "execution_count": 25,
     "metadata": {},
     "output_type": "execute_result"
    }
   ],
   "source": [
    "#requete qui affiche les 5 premières lignes de la table off_nutritional_values\n",
    "query = \"SELECT * FROM off_nutritional_values LIMIT 5\"\n",
    "df = pd.read_sql(query, connection)\n",
    "df.head()"
   ]
  },
  {
   "cell_type": "markdown",
   "metadata": {},
   "source": [
    "### Distribution des macronutriments"
   ]
  },
  {
   "cell_type": "markdown",
   "metadata": {},
   "source": [
    "Une première requête consiste à analyser la distribution des macronutriments au sein d'un groupe de produits, afin de comparer les quantités de macronutriments présentes dans chaque groupe."
   ]
  },
  {
   "cell_type": "code",
   "execution_count": 39,
   "metadata": {},
   "outputs": [
    {
     "name": "stderr",
     "output_type": "stream",
     "text": [
      "/tmp/ipykernel_661981/589421573.py:16: UserWarning: pandas only supports SQLAlchemy connectable (engine/connection) or database string URI or sqlite3 DBAPI2 connection. Other DBAPI2 objects are not tested. Please consider using SQLAlchemy.\n",
      "  df = pd.read_sql(query, connection)\n"
     ]
    },
    {
     "data": {
      "text/html": [
       "<div>\n",
       "<style scoped>\n",
       "    .dataframe tbody tr th:only-of-type {\n",
       "        vertical-align: middle;\n",
       "    }\n",
       "\n",
       "    .dataframe tbody tr th {\n",
       "        vertical-align: top;\n",
       "    }\n",
       "\n",
       "    .dataframe thead th {\n",
       "        text-align: right;\n",
       "    }\n",
       "</style>\n",
       "<table border=\"1\" class=\"dataframe\">\n",
       "  <thead>\n",
       "    <tr style=\"text-align: right;\">\n",
       "      <th></th>\n",
       "      <th>category</th>\n",
       "      <th>avg_fat</th>\n",
       "      <th>avg_carbohydrates</th>\n",
       "      <th>avg_proteins</th>\n",
       "      <th>median_fat</th>\n",
       "      <th>median_carbohydrates</th>\n",
       "      <th>median_proteins</th>\n",
       "    </tr>\n",
       "  </thead>\n",
       "  <tbody>\n",
       "    <tr>\n",
       "      <th>0</th>\n",
       "      <td>af:fusilli</td>\n",
       "      <td>1.882116</td>\n",
       "      <td>67.011508</td>\n",
       "      <td>12.446999</td>\n",
       "      <td>1.6</td>\n",
       "      <td>70.5</td>\n",
       "      <td>12.0</td>\n",
       "    </tr>\n",
       "    <tr>\n",
       "      <th>1</th>\n",
       "      <td>am:shield</td>\n",
       "      <td>NaN</td>\n",
       "      <td>NaN</td>\n",
       "      <td>NaN</td>\n",
       "      <td>NaN</td>\n",
       "      <td>NaN</td>\n",
       "      <td>NaN</td>\n",
       "    </tr>\n",
       "    <tr>\n",
       "      <th>2</th>\n",
       "      <td>ar:0</td>\n",
       "      <td>NaN</td>\n",
       "      <td>NaN</td>\n",
       "      <td>NaN</td>\n",
       "      <td>NaN</td>\n",
       "      <td>NaN</td>\n",
       "      <td>NaN</td>\n",
       "    </tr>\n",
       "    <tr>\n",
       "      <th>3</th>\n",
       "      <td>ar:08002660030108</td>\n",
       "      <td>NaN</td>\n",
       "      <td>NaN</td>\n",
       "      <td>NaN</td>\n",
       "      <td>NaN</td>\n",
       "      <td>NaN</td>\n",
       "      <td>NaN</td>\n",
       "    </tr>\n",
       "    <tr>\n",
       "      <th>4</th>\n",
       "      <td>ar:092222</td>\n",
       "      <td>NaN</td>\n",
       "      <td>NaN</td>\n",
       "      <td>NaN</td>\n",
       "      <td>NaN</td>\n",
       "      <td>NaN</td>\n",
       "      <td>NaN</td>\n",
       "    </tr>\n",
       "    <tr>\n",
       "      <th>5</th>\n",
       "      <td>ar:1</td>\n",
       "      <td>NaN</td>\n",
       "      <td>NaN</td>\n",
       "      <td>NaN</td>\n",
       "      <td>NaN</td>\n",
       "      <td>NaN</td>\n",
       "      <td>NaN</td>\n",
       "    </tr>\n",
       "    <tr>\n",
       "      <th>6</th>\n",
       "      <td>ar:١</td>\n",
       "      <td>NaN</td>\n",
       "      <td>NaN</td>\n",
       "      <td>NaN</td>\n",
       "      <td>NaN</td>\n",
       "      <td>NaN</td>\n",
       "      <td>NaN</td>\n",
       "    </tr>\n",
       "    <tr>\n",
       "      <th>7</th>\n",
       "      <td>ar:10</td>\n",
       "      <td>NaN</td>\n",
       "      <td>NaN</td>\n",
       "      <td>NaN</td>\n",
       "      <td>NaN</td>\n",
       "      <td>NaN</td>\n",
       "      <td>NaN</td>\n",
       "    </tr>\n",
       "    <tr>\n",
       "      <th>8</th>\n",
       "      <td>ar:١٠٠٪</td>\n",
       "      <td>NaN</td>\n",
       "      <td>NaN</td>\n",
       "      <td>NaN</td>\n",
       "      <td>NaN</td>\n",
       "      <td>NaN</td>\n",
       "      <td>NaN</td>\n",
       "    </tr>\n",
       "    <tr>\n",
       "      <th>9</th>\n",
       "      <td>ar:100g</td>\n",
       "      <td>0.400000</td>\n",
       "      <td>NaN</td>\n",
       "      <td>4.600000</td>\n",
       "      <td>0.4</td>\n",
       "      <td>NaN</td>\n",
       "      <td>4.6</td>\n",
       "    </tr>\n",
       "  </tbody>\n",
       "</table>\n",
       "</div>"
      ],
      "text/plain": [
       "            category   avg_fat  avg_carbohydrates  avg_proteins  median_fat  \\\n",
       "0         af:fusilli  1.882116          67.011508     12.446999         1.6   \n",
       "1          am:shield       NaN                NaN           NaN         NaN   \n",
       "2               ar:0       NaN                NaN           NaN         NaN   \n",
       "3  ar:08002660030108       NaN                NaN           NaN         NaN   \n",
       "4          ar:092222       NaN                NaN           NaN         NaN   \n",
       "5               ar:1       NaN                NaN           NaN         NaN   \n",
       "6               ar:١       NaN                NaN           NaN         NaN   \n",
       "7              ar:10       NaN                NaN           NaN         NaN   \n",
       "8            ar:١٠٠٪       NaN                NaN           NaN         NaN   \n",
       "9            ar:100g  0.400000                NaN      4.600000         0.4   \n",
       "\n",
       "   median_carbohydrates  median_proteins  \n",
       "0                  70.5             12.0  \n",
       "1                   NaN              NaN  \n",
       "2                   NaN              NaN  \n",
       "3                   NaN              NaN  \n",
       "4                   NaN              NaN  \n",
       "5                   NaN              NaN  \n",
       "6                   NaN              NaN  \n",
       "7                   NaN              NaN  \n",
       "8                   NaN              NaN  \n",
       "9                   NaN              4.6  "
      ]
     },
     "execution_count": 39,
     "metadata": {},
     "output_type": "execute_result"
    }
   ],
   "source": [
    "#Calculer la moyenne et la mediane des lipides, glucides et proteines pour chaque categorie de produit\n",
    "query = \"\"\"\n",
    "SELECT \n",
    "    c.categories_tags AS category,\n",
    "    AVG(nv.fat_100g) AS avg_fat,\n",
    "    AVG(nv.carbohydrates_100g) AS avg_carbohydrates,\n",
    "    AVG(nv.proteins_100g) AS avg_proteins,\n",
    "    PERCENTILE_CONT(0.5) WITHIN GROUP (ORDER BY nv.fat_100g) AS median_fat,\n",
    "    PERCENTILE_CONT(0.5) WITHIN GROUP (ORDER BY nv.carbohydrates_100g) AS median_carbohydrates,\n",
    "    PERCENTILE_CONT(0.5) WITHIN GROUP (ORDER BY nv.proteins_100g) AS median_proteins\n",
    "FROM off_product_infos p\n",
    "JOIN off_nutritional_values nv ON p.id = nv.id\n",
    "JOIN off_categories c ON p.id = c.id\n",
    "GROUP BY c.categories_tags;\n",
    "\"\"\"\n",
    "df = pd.read_sql(query, connection)\n",
    "df.head(10)"
   ]
  },
  {
   "cell_type": "code",
   "execution_count": 45,
   "metadata": {},
   "outputs": [
    {
     "name": "stderr",
     "output_type": "stream",
     "text": [
      "/tmp/ipykernel_661981/977097421.py:10: UserWarning: pandas only supports SQLAlchemy connectable (engine/connection) or database string URI or sqlite3 DBAPI2 connection. Other DBAPI2 objects are not tested. Please consider using SQLAlchemy.\n",
      "  df1 = pd.read_sql(query, connection)\n"
     ]
    },
    {
     "data": {
      "text/html": [
       "<div>\n",
       "<style scoped>\n",
       "    .dataframe tbody tr th:only-of-type {\n",
       "        vertical-align: middle;\n",
       "    }\n",
       "\n",
       "    .dataframe tbody tr th {\n",
       "        vertical-align: top;\n",
       "    }\n",
       "\n",
       "    .dataframe thead th {\n",
       "        text-align: right;\n",
       "    }\n",
       "</style>\n",
       "<table border=\"1\" class=\"dataframe\">\n",
       "  <thead>\n",
       "    <tr style=\"text-align: right;\">\n",
       "      <th></th>\n",
       "      <th>additives_tags</th>\n",
       "      <th>count</th>\n",
       "    </tr>\n",
       "  </thead>\n",
       "  <tbody>\n",
       "    <tr>\n",
       "      <th>0</th>\n",
       "      <td>en:e330</td>\n",
       "      <td>188769</td>\n",
       "    </tr>\n",
       "    <tr>\n",
       "      <th>1</th>\n",
       "      <td>en:e322</td>\n",
       "      <td>125368</td>\n",
       "    </tr>\n",
       "    <tr>\n",
       "      <th>2</th>\n",
       "      <td>en:e322i</td>\n",
       "      <td>105402</td>\n",
       "    </tr>\n",
       "    <tr>\n",
       "      <th>3</th>\n",
       "      <td>en:e500</td>\n",
       "      <td>79109</td>\n",
       "    </tr>\n",
       "    <tr>\n",
       "      <th>4</th>\n",
       "      <td>en:e415</td>\n",
       "      <td>66249</td>\n",
       "    </tr>\n",
       "    <tr>\n",
       "      <th>5</th>\n",
       "      <td>en:e471</td>\n",
       "      <td>59754</td>\n",
       "    </tr>\n",
       "    <tr>\n",
       "      <th>6</th>\n",
       "      <td>en:e202</td>\n",
       "      <td>54654</td>\n",
       "    </tr>\n",
       "    <tr>\n",
       "      <th>7</th>\n",
       "      <td>en:e500ii</td>\n",
       "      <td>54420</td>\n",
       "    </tr>\n",
       "    <tr>\n",
       "      <th>8</th>\n",
       "      <td>en:e412</td>\n",
       "      <td>54189</td>\n",
       "    </tr>\n",
       "    <tr>\n",
       "      <th>9</th>\n",
       "      <td>en:e450</td>\n",
       "      <td>42708</td>\n",
       "    </tr>\n",
       "  </tbody>\n",
       "</table>\n",
       "</div>"
      ],
      "text/plain": [
       "  additives_tags   count\n",
       "0        en:e330  188769\n",
       "1        en:e322  125368\n",
       "2       en:e322i  105402\n",
       "3        en:e500   79109\n",
       "4        en:e415   66249\n",
       "5        en:e471   59754\n",
       "6        en:e202   54654\n",
       "7      en:e500ii   54420\n",
       "8        en:e412   54189\n",
       "9        en:e450   42708"
      ]
     },
     "execution_count": 45,
     "metadata": {},
     "output_type": "execute_result"
    }
   ],
   "source": [
    "#affiche les 10 additifs les plus utilisés dans les produits\n",
    "query = \"\"\"\n",
    "SELECT additives_tags, COUNT(*) AS count\n",
    "FROM off_additives\n",
    "WHERE additives_tags IS NOT NULL\n",
    "GROUP BY additives_tags\n",
    "ORDER BY count DESC\n",
    "LIMIT 10;\n",
    "\"\"\"\n",
    "df1 = pd.read_sql(query, connection)\n",
    "df1"
   ]
  },
  {
   "cell_type": "code",
   "execution_count": 50,
   "metadata": {},
   "outputs": [
    {
     "data": {
      "image/png": "[encoded data removed]",
      "text/plain": [
       "<Figure size 1000x1000 with 1 Axes>"
      ]
     },
     "metadata": {},
     "output_type": "display_data"
    }
   ],
   "source": [
    "#affiche un histogramme des resultats de la requete precedente avec les additifs sur l'axe des x et le nombre d'utilisation sur l'axe des y\n",
    "colors = plt.cm.tab10(range(len(df1))) \n",
    "df1.plot(kind='barh', x='additives_tags', y='count', legend=None, figsize=(10, 10), color=colors)\n",
    "plt.xlabel('Fréquences')\n",
    "plt.ylabel('Additifs')\n",
    "plt.title('Top 10 des additifs les plus utilisés')\n",
    "plt.show()"
   ]
  },
  {
   "cell_type": "markdown",
   "metadata": {},
   "source": [
    "Dans la visualisation, on remarque donc que l'additif E330 est présent plus de 175 000 fois dans les produits de nos données alimentaires, alors que l'additif E450 n'est présent qu'à peu près 40 000 fois, car l'additif E330 (acide citrique) est largement utilisé comme conservateur et régulateur d'acidité dans de nombreux produits alimentaires courants, tels que les boissons, les confiseries et les produits transformés, tandis que E450 (pyrophosphate) est principalement utilisé dans des produits plus spécifiques, comme les viandes transformées et les produits de la mer, ce qui explique sa présence moins fréquente dans l'ensemble des produits analysés.  \n",
    "\n",
    "Ces résultats sont confirmés par les informations disponibles sur le site [Évolution de l'utilisation des additifs alimentaires](https://www.anses.fr/fr/content/evolution-de-lutilisation-des-additifs-alimentaires-dans-les-produits-transformes), qui indique que l’acide citrique (E330) et les lécithines (E322) sont présents dans un grand nombre de produits transformés.\n",
    "\n"
   ]
  },
  {
   "cell_type": "code",
   "execution_count": 63,
   "metadata": {},
   "outputs": [
    {
     "name": "stderr",
     "output_type": "stream",
     "text": [
      "/tmp/ipykernel_661981/2058681430.py:9: UserWarning: pandas only supports SQLAlchemy connectable (engine/connection) or database string URI or sqlite3 DBAPI2 connection. Other DBAPI2 objects are not tested. Please consider using SQLAlchemy.\n",
      "  df3= pd.read_sql(query, connection)\n"
     ]
    },
    {
     "name": "stdout",
     "output_type": "stream",
     "text": [
      "  countries_fr  sugars_100g\n",
      "0        Monde          NaN\n",
      "1       France        13.50\n",
      "2      Irlande          NaN\n",
      "3      Irlande          NaN\n",
      "4       Canada        22.50\n",
      "5       Italie          NaN\n",
      "6        Maroc          NaN\n",
      "7      Espagne        21.49\n",
      "8       France         1.00\n",
      "9        Monde          NaN\n"
     ]
    }
   ],
   "source": [
    "\n",
    "\n",
    "#affiche la moyenne des sucres par origines \n",
    "query = \"\"\"\n",
    "SELECT o.countries_fr, nv.sugars_100g\n",
    "FROM off_product_infos p\n",
    "JOIN off_nutritional_values nv ON p.id = nv.id\n",
    "JOIN off_purchase_places o ON p.id = o.id\n",
    "LIMIT 100;\n",
    "\"\"\"\n",
    "df3= pd.read_sql(query, connection)\n",
    "\n",
    "\n",
    "# Vérifier à nouveau les premières lignes\n",
    "print(df3.head(10))"
   ]
  },
  {
   "cell_type": "code",
   "execution_count": 62,
   "metadata": {},
   "outputs": [
    {
     "name": "stderr",
     "output_type": "stream",
     "text": [
      "/tmp/ipykernel_661981/2974144701.py:13: UserWarning: pandas only supports SQLAlchemy connectable (engine/connection) or database string URI or sqlite3 DBAPI2 connection. Other DBAPI2 objects are not tested. Please consider using SQLAlchemy.\n",
      "  df2 = pd.read_sql(query, connection)\n"
     ]
    },
    {
     "name": "stdout",
     "output_type": "stream",
     "text": [
      "                  country    avg_sugars\n",
      "0                  France  1.422972e+27\n",
      "1                 Hongrie  8.816797e+13\n",
      "2                    Oman  6.027033e+09\n",
      "3                   Maroc  9.336654e+02\n",
      "4  en:indian-subcontinent  8.000000e+01\n",
      "5              Angleterre  7.106602e+01\n",
      "6     en:brazil-en-france  6.800000e+01\n",
      "7                   Tonga  6.500000e+01\n",
      "8              ca:argelia  6.300000e+01\n",
      "9                    it:a  6.300000e+01\n"
     ]
    }
   ],
   "source": [
    "#affiche la moyenne des sucres par origines \n",
    "query = \"\"\"\n",
    "SELECT \n",
    "    o.countries_fr AS country,\n",
    "    AVG(nv.sugars_100g) AS avg_sugars\n",
    "FROM off_product_infos p\n",
    "JOIN off_nutritional_values nv ON p.id = nv.id\n",
    "JOIN off_purchase_places o ON p.id = o.id\n",
    "WHERE nv.sugars_100g IS NOT NULL\n",
    "GROUP BY o.countries_fr\n",
    "ORDER BY avg_sugars DESC;\n",
    "\"\"\"\n",
    "df2 = pd.read_sql(query, connection)\n",
    "\n",
    "# Forcer l'affichage des décimales avec pd.set_option\n",
    "#d.set_option('display.float_format', '{:.2f}'.format)\n",
    "pd.reset_option('display.float_format')\n",
    "\n",
    "\n",
    "# Vérifier à nouveau les premières lignes\n",
    "print(df2.head(10))"
   ]
  },
  {
   "cell_type": "markdown",
   "metadata": {},
   "source": [
    "### Teneur en sucres ajoutés"
   ]
  },
  {
   "cell_type": "code",
   "execution_count": 66,
   "metadata": {},
   "outputs": [
    {
     "name": "stderr",
     "output_type": "stream",
     "text": [
      "/tmp/ipykernel_661981/423311986.py:11: UserWarning: pandas only supports SQLAlchemy connectable (engine/connection) or database string URI or sqlite3 DBAPI2 connection. Other DBAPI2 objects are not tested. Please consider using SQLAlchemy.\n",
      "  df4 = pd.read_sql(query, connection)\n"
     ]
    },
    {
     "data": {
      "text/html": [
       "<div>\n",
       "<style scoped>\n",
       "    .dataframe tbody tr th:only-of-type {\n",
       "        vertical-align: middle;\n",
       "    }\n",
       "\n",
       "    .dataframe tbody tr th {\n",
       "        vertical-align: top;\n",
       "    }\n",
       "\n",
       "    .dataframe thead th {\n",
       "        text-align: right;\n",
       "    }\n",
       "</style>\n",
       "<table border=\"1\" class=\"dataframe\">\n",
       "  <thead>\n",
       "    <tr style=\"text-align: right;\">\n",
       "      <th></th>\n",
       "      <th>category</th>\n",
       "      <th>added_sugars</th>\n",
       "    </tr>\n",
       "  </thead>\n",
       "  <tbody>\n",
       "    <tr>\n",
       "      <th>0</th>\n",
       "      <td>en:sweet-snacks</td>\n",
       "      <td>7.14</td>\n",
       "    </tr>\n",
       "    <tr>\n",
       "      <th>1</th>\n",
       "      <td>en:snacks</td>\n",
       "      <td>7.14</td>\n",
       "    </tr>\n",
       "    <tr>\n",
       "      <th>2</th>\n",
       "      <td>en:crackers</td>\n",
       "      <td>6.45</td>\n",
       "    </tr>\n",
       "    <tr>\n",
       "      <th>3</th>\n",
       "      <td>en:peanut-filled</td>\n",
       "      <td>6.45</td>\n",
       "    </tr>\n",
       "    <tr>\n",
       "      <th>4</th>\n",
       "      <td>en:pretzel</td>\n",
       "      <td>6.45</td>\n",
       "    </tr>\n",
       "    <tr>\n",
       "      <th>5</th>\n",
       "      <td>en:appetizers</td>\n",
       "      <td>6.45</td>\n",
       "    </tr>\n",
       "    <tr>\n",
       "      <th>6</th>\n",
       "      <td>en:salty-snacks</td>\n",
       "      <td>6.45</td>\n",
       "    </tr>\n",
       "    <tr>\n",
       "      <th>7</th>\n",
       "      <td>en:snacks</td>\n",
       "      <td>6.45</td>\n",
       "    </tr>\n",
       "    <tr>\n",
       "      <th>8</th>\n",
       "      <td>en:plant-based-foods-and-beverages</td>\n",
       "      <td>0.00</td>\n",
       "    </tr>\n",
       "    <tr>\n",
       "      <th>9</th>\n",
       "      <td>en:pastas</td>\n",
       "      <td>0.00</td>\n",
       "    </tr>\n",
       "  </tbody>\n",
       "</table>\n",
       "</div>"
      ],
      "text/plain": [
       "                             category  added_sugars\n",
       "0                     en:sweet-snacks          7.14\n",
       "1                           en:snacks          7.14\n",
       "2                         en:crackers          6.45\n",
       "3                    en:peanut-filled          6.45\n",
       "4                          en:pretzel          6.45\n",
       "5                       en:appetizers          6.45\n",
       "6                     en:salty-snacks          6.45\n",
       "7                           en:snacks          6.45\n",
       "8  en:plant-based-foods-and-beverages          0.00\n",
       "9                           en:pastas          0.00"
      ]
     },
     "execution_count": 66,
     "metadata": {},
     "output_type": "execute_result"
    }
   ],
   "source": [
    "#affiche la distribution de la quantité de sucres ajoutés dans toutes les catégories de produits\n",
    "query = \"\"\"\n",
    "SELECT \n",
    "    c.categories_tags AS category,\n",
    "    nv.added_sugars_100g AS added_sugars\n",
    "FROM off_product_infos p\n",
    "JOIN off_nutritional_values nv ON p.id = nv.id\n",
    "JOIN off_categories c ON p.id = c.id\n",
    "WHERE nv.added_sugars_100g IS NOT NULL;\n",
    "\"\"\"\n",
    "df4 = pd.read_sql(query, connection)\n",
    "df4.head(10)"
   ]
  },
  {
   "cell_type": "code",
   "execution_count": 68,
   "metadata": {},
   "outputs": [
    {
     "name": "stderr",
     "output_type": "stream",
     "text": [
      "/tmp/ipykernel_661981/3806287189.py:12: UserWarning: pandas only supports SQLAlchemy connectable (engine/connection) or database string URI or sqlite3 DBAPI2 connection. Other DBAPI2 objects are not tested. Please consider using SQLAlchemy.\n",
      "  df4 = pd.read_sql(query, connection)\n"
     ]
    },
    {
     "data": {
      "text/html": [
       "<div>\n",
       "<style scoped>\n",
       "    .dataframe tbody tr th:only-of-type {\n",
       "        vertical-align: middle;\n",
       "    }\n",
       "\n",
       "    .dataframe tbody tr th {\n",
       "        vertical-align: top;\n",
       "    }\n",
       "\n",
       "    .dataframe thead th {\n",
       "        text-align: right;\n",
       "    }\n",
       "</style>\n",
       "<table border=\"1\" class=\"dataframe\">\n",
       "  <thead>\n",
       "    <tr style=\"text-align: right;\">\n",
       "      <th></th>\n",
       "      <th>ingredient</th>\n",
       "      <th>count</th>\n",
       "    </tr>\n",
       "  </thead>\n",
       "  <tbody>\n",
       "    <tr>\n",
       "      <th>0</th>\n",
       "      <td>en:salt</td>\n",
       "      <td>542735</td>\n",
       "    </tr>\n",
       "    <tr>\n",
       "      <th>1</th>\n",
       "      <td>en:added-sugar</td>\n",
       "      <td>525378</td>\n",
       "    </tr>\n",
       "    <tr>\n",
       "      <th>2</th>\n",
       "      <td>en:disaccharide</td>\n",
       "      <td>472357</td>\n",
       "    </tr>\n",
       "    <tr>\n",
       "      <th>3</th>\n",
       "      <td>en:sugar</td>\n",
       "      <td>447464</td>\n",
       "    </tr>\n",
       "    <tr>\n",
       "      <th>4</th>\n",
       "      <td>en:water</td>\n",
       "      <td>383608</td>\n",
       "    </tr>\n",
       "    <tr>\n",
       "      <th>5</th>\n",
       "      <td>en:oil-and-fat</td>\n",
       "      <td>383208</td>\n",
       "    </tr>\n",
       "    <tr>\n",
       "      <th>6</th>\n",
       "      <td>en:flavouring</td>\n",
       "      <td>368120</td>\n",
       "    </tr>\n",
       "    <tr>\n",
       "      <th>7</th>\n",
       "      <td>en:vegetable-oil-and-fat</td>\n",
       "      <td>357162</td>\n",
       "    </tr>\n",
       "    <tr>\n",
       "      <th>8</th>\n",
       "      <td>en:vegetable</td>\n",
       "      <td>345216</td>\n",
       "    </tr>\n",
       "    <tr>\n",
       "      <th>9</th>\n",
       "      <td>en:dairy</td>\n",
       "      <td>291007</td>\n",
       "    </tr>\n",
       "  </tbody>\n",
       "</table>\n",
       "</div>"
      ],
      "text/plain": [
       "                 ingredient   count\n",
       "0                   en:salt  542735\n",
       "1            en:added-sugar  525378\n",
       "2           en:disaccharide  472357\n",
       "3                  en:sugar  447464\n",
       "4                  en:water  383608\n",
       "5            en:oil-and-fat  383208\n",
       "6             en:flavouring  368120\n",
       "7  en:vegetable-oil-and-fat  357162\n",
       "8              en:vegetable  345216\n",
       "9                  en:dairy  291007"
      ]
     },
     "execution_count": 68,
     "metadata": {},
     "output_type": "execute_result"
    }
   ],
   "source": [
    "#affiche la distribution de la quantité de sucres ajoutés dans toutes les catégories de produits\n",
    "query = \"\"\"\n",
    "SELECT \n",
    "    i.ingredients_tags AS ingredient,\n",
    "    COUNT(*) AS count\n",
    "FROM off_ingredients i\n",
    "WHERE i.ingredients_tags IS NOT NULL\n",
    "GROUP BY i.ingredients_tags\n",
    "ORDER BY count DESC\n",
    "LIMIT 10;\n",
    "\"\"\"\n",
    "df4 = pd.read_sql(query, connection)\n",
    "df4.head(10)"
   ]
  },
  {
   "cell_type": "code",
   "execution_count": 69,
   "metadata": {},
   "outputs": [
    {
     "data": {
      "image/png": "[encoded data removed]",
      "text/plain": [
       "<Figure size 1000x600 with 1 Axes>"
      ]
     },
     "metadata": {},
     "output_type": "display_data"
    }
   ],
   "source": [
    "# Créer un bar chart\n",
    "plt.figure(figsize=(10, 6))\n",
    "plt.bar(df4['ingredient'], df4['count'], color='skyblue')\n",
    "plt.xlabel('Ingrédients')\n",
    "plt.ylabel('Nombre d\\'utilisations')\n",
    "plt.title('Top 10 des ingrédients les plus utilisés')\n",
    "plt.xticks(rotation=45, ha='right')  # Rotation des étiquettes pour une meilleure lisibilité\n",
    "plt.tight_layout()\n",
    "plt.show()"
   ]
  },
  {
   "cell_type": "markdown",
   "metadata": {},
   "source": [
    "On observe que l'ingrédient le plus fréquemment utilisé est le sel, présent dans plus de 500 000 produits alimentaires. Viennent ensuite les sucres ajoutés, les glucides, le sucre, l'eau, et d'autres. Cela met en évidence l'utilisation généralisée du sel et des sucres dans une grande variété de produits alimentaires, ce qui soulève des préoccupations majeures pour la santé publique. Il devient donc essentiel de promouvoir des choix alimentaires équilibrés et conscients pour préserver la santé des consommateurs."
   ]
  },
  {
   "cell_type": "code",
   "execution_count": 88,
   "metadata": {},
   "outputs": [
    {
     "name": "stderr",
     "output_type": "stream",
     "text": [
      "/tmp/ipykernel_661981/649254697.py:15: UserWarning: pandas only supports SQLAlchemy connectable (engine/connection) or database string URI or sqlite3 DBAPI2 connection. Other DBAPI2 objects are not tested. Please consider using SQLAlchemy.\n",
      "  df6 = pd.read_sql(query, connection)\n"
     ]
    },
    {
     "data": {
      "text/html": [
       "<div>\n",
       "<style scoped>\n",
       "    .dataframe tbody tr th:only-of-type {\n",
       "        vertical-align: middle;\n",
       "    }\n",
       "\n",
       "    .dataframe tbody tr th {\n",
       "        vertical-align: top;\n",
       "    }\n",
       "\n",
       "    .dataframe thead th {\n",
       "        text-align: right;\n",
       "    }\n",
       "</style>\n",
       "<table border=\"1\" class=\"dataframe\">\n",
       "  <thead>\n",
       "    <tr style=\"text-align: right;\">\n",
       "      <th></th>\n",
       "      <th>brand</th>\n",
       "      <th>avg_sugars</th>\n",
       "    </tr>\n",
       "  </thead>\n",
       "  <tbody>\n",
       "    <tr>\n",
       "      <th>0</th>\n",
       "      <td>agros-nova-soki-sp-z-o-o</td>\n",
       "      <td>10.0</td>\n",
       "    </tr>\n",
       "    <tr>\n",
       "      <th>1</th>\n",
       "      <td>agriculture-eu</td>\n",
       "      <td>10.0</td>\n",
       "    </tr>\n",
       "    <tr>\n",
       "      <th>2</th>\n",
       "      <td>activia-san-lactose</td>\n",
       "      <td>10.0</td>\n",
       "    </tr>\n",
       "    <tr>\n",
       "      <th>3</th>\n",
       "      <td>agropen</td>\n",
       "      <td>10.0</td>\n",
       "    </tr>\n",
       "    <tr>\n",
       "      <th>4</th>\n",
       "      <td>advance-nutrition</td>\n",
       "      <td>10.0</td>\n",
       "    </tr>\n",
       "    <tr>\n",
       "      <th>5</th>\n",
       "      <td>active-life</td>\n",
       "      <td>10.0</td>\n",
       "    </tr>\n",
       "    <tr>\n",
       "      <th>6</th>\n",
       "      <td>absorb-plus</td>\n",
       "      <td>10.0</td>\n",
       "    </tr>\n",
       "    <tr>\n",
       "      <th>7</th>\n",
       "      <td>1st</td>\n",
       "      <td>10.0</td>\n",
       "    </tr>\n",
       "    <tr>\n",
       "      <th>8</th>\n",
       "      <td>agribiologica</td>\n",
       "      <td>10.0</td>\n",
       "    </tr>\n",
       "    <tr>\n",
       "      <th>9</th>\n",
       "      <td>🤩🤩🤩</td>\n",
       "      <td>10.0</td>\n",
       "    </tr>\n",
       "    <tr>\n",
       "      <th>10</th>\n",
       "      <td>불가리스</td>\n",
       "      <td>10.0</td>\n",
       "    </tr>\n",
       "    <tr>\n",
       "      <th>11</th>\n",
       "      <td>7-fjell</td>\n",
       "      <td>10.0</td>\n",
       "    </tr>\n",
       "    <tr>\n",
       "      <th>12</th>\n",
       "      <td>3x-par-jour</td>\n",
       "      <td>10.0</td>\n",
       "    </tr>\n",
       "    <tr>\n",
       "      <th>13</th>\n",
       "      <td>마이밀</td>\n",
       "      <td>10.0</td>\n",
       "    </tr>\n",
       "    <tr>\n",
       "      <th>14</th>\n",
       "      <td>9hylls</td>\n",
       "      <td>10.0</td>\n",
       "    </tr>\n",
       "    <tr>\n",
       "      <th>15</th>\n",
       "      <td>하늘처럼</td>\n",
       "      <td>10.0</td>\n",
       "    </tr>\n",
       "    <tr>\n",
       "      <th>16</th>\n",
       "      <td>피코크</td>\n",
       "      <td>10.0</td>\n",
       "    </tr>\n",
       "    <tr>\n",
       "      <th>17</th>\n",
       "      <td>팔도</td>\n",
       "      <td>10.0</td>\n",
       "    </tr>\n",
       "    <tr>\n",
       "      <th>18</th>\n",
       "      <td>다담</td>\n",
       "      <td>10.0</td>\n",
       "    </tr>\n",
       "    <tr>\n",
       "      <th>19</th>\n",
       "      <td>agrozumos-s-a</td>\n",
       "      <td>10.0</td>\n",
       "    </tr>\n",
       "  </tbody>\n",
       "</table>\n",
       "</div>"
      ],
      "text/plain": [
       "                       brand  avg_sugars\n",
       "0   agros-nova-soki-sp-z-o-o        10.0\n",
       "1             agriculture-eu        10.0\n",
       "2        activia-san-lactose        10.0\n",
       "3                    agropen        10.0\n",
       "4          advance-nutrition        10.0\n",
       "5                active-life        10.0\n",
       "6                absorb-plus        10.0\n",
       "7                        1st        10.0\n",
       "8              agribiologica        10.0\n",
       "9                        🤩🤩🤩        10.0\n",
       "10                      불가리스        10.0\n",
       "11                   7-fjell        10.0\n",
       "12               3x-par-jour        10.0\n",
       "13                       마이밀        10.0\n",
       "14                    9hylls        10.0\n",
       "15                      하늘처럼        10.0\n",
       "16                       피코크        10.0\n",
       "17                        팔도        10.0\n",
       "18                        다담        10.0\n",
       "19             agrozumos-s-a        10.0"
      ]
     },
     "execution_count": 88,
     "metadata": {},
     "output_type": "execute_result"
    }
   ],
   "source": [
    "#affiche la distribution de la quantité de sucres ajoutés dans toutes les catégories de produits\n",
    "query = \"\"\"\n",
    "SELECT \n",
    "    b.brands_tags AS brand,\n",
    "    ROUND(AVG(nv.sugars_100g), 2) AS avg_sugars\n",
    "FROM off_product_infos p\n",
    "JOIN off_nutritional_values nv ON p.id = nv.id\n",
    "JOIN off_brands_infos b ON p.id = b.id\n",
    "WHERE nv.sugars_100g IS NOT NULL\n",
    "GROUP BY b.brands_tags\n",
    "HAVING AVG(nv.sugars_100g) <= 10\n",
    "ORDER BY avg_sugars DESC\n",
    "LIMIT 20;\n",
    "\"\"\"\n",
    "df6 = pd.read_sql(query, connection)\n",
    "df6.head(20)"
   ]
  },
  {
   "cell_type": "markdown",
   "metadata": {},
   "source": [
    "On peut verifier pour quelques une de ces marques leurs nutri-score. Par exemple nous pouvons verifier pour les marques **7-Fjell**, **9Hylls** et **Agropen**."
   ]
  },
  {
   "cell_type": "code",
   "execution_count": null,
   "metadata": {},
   "outputs": [
    {
     "name": "stderr",
     "output_type": "stream",
     "text": [
      "/tmp/ipykernel_661981/960740848.py:13: UserWarning: pandas only supports SQLAlchemy connectable (engine/connection) or database string URI or sqlite3 DBAPI2 connection. Other DBAPI2 objects are not tested. Please consider using SQLAlchemy.\n",
      "  df7 = pd.read_sql(query, connection)\n"
     ]
    },
    {
     "data": {
      "text/html": [
       "<div>\n",
       "<style scoped>\n",
       "    .dataframe tbody tr th:only-of-type {\n",
       "        vertical-align: middle;\n",
       "    }\n",
       "\n",
       "    .dataframe tbody tr th {\n",
       "        vertical-align: top;\n",
       "    }\n",
       "\n",
       "    .dataframe thead th {\n",
       "        text-align: right;\n",
       "    }\n",
       "</style>\n",
       "<table border=\"1\" class=\"dataframe\">\n",
       "  <thead>\n",
       "    <tr style=\"text-align: right;\">\n",
       "      <th></th>\n",
       "      <th>brand</th>\n",
       "      <th>product</th>\n",
       "      <th>nutriscore_grade</th>\n",
       "      <th>nutriscore_score</th>\n",
       "    </tr>\n",
       "  </thead>\n",
       "  <tbody>\n",
       "    <tr>\n",
       "      <th>0</th>\n",
       "      <td>7-fjell</td>\n",
       "      <td>Bergen Julemarked Julebrus</td>\n",
       "      <td>e</td>\n",
       "      <td>11</td>\n",
       "    </tr>\n",
       "    <tr>\n",
       "      <th>1</th>\n",
       "      <td>7-fjell</td>\n",
       "      <td>Julebrus</td>\n",
       "      <td>e</td>\n",
       "      <td>11</td>\n",
       "    </tr>\n",
       "    <tr>\n",
       "      <th>2</th>\n",
       "      <td>9hylls</td>\n",
       "      <td>9Hylls caramel</td>\n",
       "      <td>c</td>\n",
       "      <td>5</td>\n",
       "    </tr>\n",
       "    <tr>\n",
       "      <th>3</th>\n",
       "      <td>agropen</td>\n",
       "      <td>Piña</td>\n",
       "      <td>a</td>\n",
       "      <td>4</td>\n",
       "    </tr>\n",
       "  </tbody>\n",
       "</table>\n",
       "</div>"
      ],
      "text/plain": [
       "     brand                     product nutriscore_grade nutriscore_score\n",
       "0  7-fjell  Bergen Julemarked Julebrus                e               11\n",
       "1  7-fjell                    Julebrus                e               11\n",
       "2   9hylls              9Hylls caramel                c                5\n",
       "3  agropen                        Piña                a                4"
      ]
     },
     "execution_count": 105,
     "metadata": {},
     "output_type": "execute_result"
    }
   ],
   "source": [
    "#affiche la marque et les Nutri-Score associes à quelques-uns de leurs produits\n",
    "query = \"\"\"\n",
    "SELECT \n",
    "    b.brands_tags AS brand,\n",
    "    p.product_name AS product,\n",
    "    nv.nutriscore_grade,\n",
    "    nv.nutriscore_score\n",
    "FROM off_product_infos p\n",
    "JOIN off_nutritional_infos nv ON p.id = nv.id\n",
    "JOIN off_brands_infos b ON p.id = b.id\n",
    "WHERE b.brands_tags IN ('agropen', '9hylls', '7-fjell');\n",
    "\"\"\"\n",
    "df7 = pd.read_sql(query, connection)\n",
    "df7.head()"
   ]
  },
  {
   "cell_type": "markdown",
   "metadata": {},
   "source": [
    "**7-Fjell** est une marque de bière artisanale originaire de Norvège. Il est donc normal que ce type de produit ait un Nutri-Score E, car la bière contient de l'alcool, du sucre et manque de nutriments bénéfiques tels que les fibres et les protéines. L'alcool, en particulier, est un facteur pénalisant dans le calcul du Nutri-Score, tout comme la teneur en sucre. Ces éléments influencent négativement le score nutritionnel du produit.  \n",
    "\n",
    "En ce qui concerne **9Hylls**, il s'agit d'une marque de pudding allemande. Le Nutri-Score de ces produits est généralement faible en raison de leur forte teneur en sucre, un critère clé dans le calcul du Nutri-Score. Les puddings, étant souvent des desserts sucrés, contiennent des niveaux élevés de sucre ajouté, ce qui peut expliquer un score nutritionnel défavorable.  \n",
    "\n",
    "Enfin, pour **Agropen**, la marque propose des ananas. Ce type de produit, étant un fruit frais, bénéficie naturellement d'un Nutri-Score A, en raison de sa faible teneur en calories, de son absence de graisses saturées et de sucre ajouté, ainsi que de sa richesse en fibres et en vitamines. Les fruits frais sont classés parmi les meilleurs produits du point de vue nutritionnel."
   ]
  },
  {
   "cell_type": "markdown",
   "metadata": {},
   "source": [
    "Identification des produits riches en nutriments spécifiques:  \n",
    "\n",
    "Rechercher les produits ou catégories de produits riches en fer ou calcium pour aider les personnes souffrant de carences en ces nutriments. Cela vous permettra de recommander des produits qui compensent les déficits nutritionnels."
   ]
  },
  {
   "cell_type": "code",
   "execution_count": 9,
   "metadata": {},
   "outputs": [
    {
     "name": "stderr",
     "output_type": "stream",
     "text": [
      "/tmp/ipykernel_727154/838477654.py:26: UserWarning: pandas only supports SQLAlchemy connectable (engine/connection) or database string URI or sqlite3 DBAPI2 connection. Other DBAPI2 objects are not tested. Please consider using SQLAlchemy.\n",
      "  df8 = pd.read_sql(query, connection)\n"
     ]
    },
    {
     "data": {
      "text/html": [
       "<div>\n",
       "<style scoped>\n",
       "    .dataframe tbody tr th:only-of-type {\n",
       "        vertical-align: middle;\n",
       "    }\n",
       "\n",
       "    .dataframe tbody tr th {\n",
       "        vertical-align: top;\n",
       "    }\n",
       "\n",
       "    .dataframe thead th {\n",
       "        text-align: right;\n",
       "    }\n",
       "</style>\n",
       "<table border=\"1\" class=\"dataframe\">\n",
       "  <thead>\n",
       "    <tr style=\"text-align: right;\">\n",
       "      <th></th>\n",
       "      <th>category</th>\n",
       "      <th>product_name</th>\n",
       "      <th>iron_content</th>\n",
       "    </tr>\n",
       "  </thead>\n",
       "  <tbody>\n",
       "    <tr>\n",
       "      <th>0</th>\n",
       "      <td>en:breakfast-cereals</td>\n",
       "      <td>SanoVita Musli cu fructe</td>\n",
       "      <td>28.80</td>\n",
       "    </tr>\n",
       "    <tr>\n",
       "      <th>1</th>\n",
       "      <td>en:breakfast-cereals</td>\n",
       "      <td>Cao Ball</td>\n",
       "      <td>12.29</td>\n",
       "    </tr>\n",
       "    <tr>\n",
       "      <th>2</th>\n",
       "      <td>en:breakfast-cereals</td>\n",
       "      <td>Special K Red Berries</td>\n",
       "      <td>11.00</td>\n",
       "    </tr>\n",
       "    <tr>\n",
       "      <th>3</th>\n",
       "      <td>en:breakfast-cereals</td>\n",
       "      <td>Nesqwik АЛФАВИТ</td>\n",
       "      <td>10.60</td>\n",
       "    </tr>\n",
       "    <tr>\n",
       "      <th>4</th>\n",
       "      <td>en:breakfast-cereals</td>\n",
       "      <td>Céréales Nesquik Au Goût Chocolat</td>\n",
       "      <td>10.40</td>\n",
       "    </tr>\n",
       "    <tr>\n",
       "      <th>5</th>\n",
       "      <td>en:breakfast-cereals</td>\n",
       "      <td>All-Bran Original</td>\n",
       "      <td>8.80</td>\n",
       "    </tr>\n",
       "    <tr>\n",
       "      <th>6</th>\n",
       "      <td>en:breakfast-cereals</td>\n",
       "      <td>MINI COOKIES</td>\n",
       "      <td>8.50</td>\n",
       "    </tr>\n",
       "    <tr>\n",
       "      <th>7</th>\n",
       "      <td>en:breakfast-cereals</td>\n",
       "      <td>Kellogg's Tresor Dark Choco</td>\n",
       "      <td>8.00</td>\n",
       "    </tr>\n",
       "    <tr>\n",
       "      <th>8</th>\n",
       "      <td>en:breakfast-cereals</td>\n",
       "      <td>Cereal farcits de xoco</td>\n",
       "      <td>7.00</td>\n",
       "    </tr>\n",
       "    <tr>\n",
       "      <th>9</th>\n",
       "      <td>en:breakfast-cereals</td>\n",
       "      <td>Choco Shells</td>\n",
       "      <td>7.00</td>\n",
       "    </tr>\n",
       "  </tbody>\n",
       "</table>\n",
       "</div>"
      ],
      "text/plain": [
       "               category                       product_name  iron_content\n",
       "0  en:breakfast-cereals           SanoVita Musli cu fructe         28.80\n",
       "1  en:breakfast-cereals                           Cao Ball         12.29\n",
       "2  en:breakfast-cereals              Special K Red Berries         11.00\n",
       "3  en:breakfast-cereals                    Nesqwik АЛФАВИТ         10.60\n",
       "4  en:breakfast-cereals  Céréales Nesquik Au Goût Chocolat         10.40\n",
       "5  en:breakfast-cereals                  All-Bran Original          8.80\n",
       "6  en:breakfast-cereals                       MINI COOKIES          8.50\n",
       "7  en:breakfast-cereals        Kellogg's Tresor Dark Choco          8.00\n",
       "8  en:breakfast-cereals             Cereal farcits de xoco          7.00\n",
       "9  en:breakfast-cereals                       Choco Shells          7.00"
      ]
     },
     "execution_count": 9,
     "metadata": {},
     "output_type": "execute_result"
    }
   ],
   "source": [
    "#affiche catégories les plus fréquentes parmi les produits ayant une teneur en fer supérieure à 5g/100g, les 10 catégories les plus fréquentes\n",
    "query = \"\"\"\n",
    "WITH top_categories AS (\n",
    "    SELECT \n",
    "        c.categories_tags AS category,\n",
    "        COUNT(*) AS category_count\n",
    "    FROM off_product_infos p\n",
    "    JOIN off_nutritional_values nv ON p.id = nv.id\n",
    "    JOIN off_categories c ON p.id = c.id\n",
    "    WHERE nv.iron_100g > 5\n",
    "    GROUP BY c.categories_tags\n",
    "    ORDER BY category_count DESC\n",
    "    LIMIT 10\n",
    ")\n",
    "SELECT \n",
    "    c.categories_tags AS category,\n",
    "    p.product_name AS product_name,\n",
    "    nv.iron_100g AS iron_content\n",
    "FROM off_product_infos p\n",
    "JOIN off_nutritional_values nv ON p.id = nv.id\n",
    "JOIN off_categories c ON p.id = c.id\n",
    "WHERE nv.iron_100g > 5\n",
    "  AND c.categories_tags IN (SELECT category FROM top_categories)\n",
    "ORDER BY c.categories_tags, nv.iron_100g DESC;\n",
    "\"\"\"\n",
    "df8 = pd.read_sql(query, connection)\n",
    "df8.head(10)"
   ]
  },
  {
   "cell_type": "markdown",
   "metadata": {},
   "source": [
    "On observe que parmi les 10 catégories les plus fréquentes parmi les produits riches en fer, les **céréales pour le petit-déjeuner** se distinguent par une teneur en fer particulièrement élevée. Cette catégorie domine clairement la liste, ce qui indique qu’elle est largement enrichie en fer. \n",
    "\n",
    "Cela suggère que les **céréales pour le petit-déjeuner** pourraient constituer une solution nutritionnelle importante pour répondre aux besoins en fer des populations susceptibles de souffrir de carences, telles que les enfants, les femmes enceintes ou les personnes âgées.\n",
    "\n",
    "En outre, cette tendance met en lumière l'importance de l'enrichissement des produits alimentaires dans cette catégorie, afin de soutenir une alimentation équilibrée et prévenir les carences en fer.\n"
   ]
  },
  {
   "cell_type": "code",
   "execution_count": 12,
   "metadata": {},
   "outputs": [
    {
     "data": {
      "image/png": "[encoded data removed]",
      "text/plain": [
       "<Figure size 1200x800 with 1 Axes>"
      ]
     },
     "metadata": {},
     "output_type": "display_data"
    }
   ],
   "source": [
    "plt.figure(figsize=(12, 8))\n",
    "sns.scatterplot(data=df8, x='iron_content', y='category', hue='category', size='iron_content', sizes=(50, 300), palette='viridis')\n",
    "plt.xlabel('Teneur en fer (g/100g)')\n",
    "plt.ylabel('Produits')\n",
    "plt.title('Produits ayant une teneur en fer > 5g/100g, regroupés par catégorie')\n",
    "plt.legend(title='Catégories', bbox_to_anchor=(1.05, 1), loc='upper left')\n",
    "plt.tight_layout()\n",
    "plt.show()"
   ]
  },
  {
   "cell_type": "markdown",
   "metadata": {},
   "source": [
    "Cette visualisation met en évidence la répartition des produits ayant une teneur en fer supérieure à 5 g pour 100 g, regroupés par catégorie. On observe que les compléments alimentaires (« dietary supplements ») se démarquent nettement avec la teneur en fer la plus élevée, atteignant près de 100 g/100 g, ce qui reflète leur forte concentration en nutriments. \n",
    "\n",
    "Les catégories « plant-based foods », « plant-based foods and beverages » ainsi que certains « snacks » présentent également des teneurs relativement élevées, allant jusqu’à 60 à 70 g/100 g pour certains produits. À l’inverse, les catégories telles que les céréales, les petits-déjeuners et leurs dérivés affichent des teneurs plus modérées, bien qu’il soit possible d’y retrouver quelques produits enrichis.\n",
    "\n",
    "La taille des bulles, représentant la quantité de fer, permet de visualiser rapidement les produits les plus riches au sein de chaque catégorie. Enfin, la diversité des couleurs facilite l’identification des différentes catégories. Ce graphique permet ainsi d’identifier rapidement les types d’aliments les plus riches en fer.\n"
   ]
  },
  {
   "cell_type": "markdown",
   "metadata": {},
   "source": [
    "### Matrice de corrélation des valeurs nutritionnelles\n",
    "\n",
    "La matrice de corrélation que vous trouverez ci-dessous met en évidence les liens entre les différents nutriments. Par exemple, elle vous permettra de voir si les produits riches en matières grasses ont tendance à être également riches en calories, ou si les produits faibles en fibres sont souvent riches en sucres. En analysant ces relations, vous pourrez identifier des modèles nutritionnels, évaluer l'équilibre des produits et, surtout, formuler des recommandations nutritionnelles personnalisées et basées sur des données probantes.\n",
    "\n",
    "Pour calculer la matrice de corrélation nous avons sélectionner des indicateurs clés comme les lipides, les glucides, les proteines, les fibres, le sel, le sucre et l'énergie. Ils representent les principaux macronutriments et permettent d'identifier les relations importantes entre les nutriments. \n",
    "\n",
    "Vous pouvez modifier ou ajouter des colonnes à la requête si vous le souhaitez."
   ]
  },
  {
   "cell_type": "code",
   "execution_count": 14,
   "metadata": {},
   "outputs": [
    {
     "name": "stderr",
     "output_type": "stream",
     "text": [
      "/tmp/ipykernel_727154/148495704.py:17: UserWarning: pandas only supports SQLAlchemy connectable (engine/connection) or database string URI or sqlite3 DBAPI2 connection. Other DBAPI2 objects are not tested. Please consider using SQLAlchemy.\n",
      "  df = pd.read_sql(query, connection)\n"
     ]
    },
    {
     "data": {
      "image/png": "[encoded data removed]",
      "text/plain": [
       "<Figure size 1000x800 with 2 Axes>"
      ]
     },
     "metadata": {},
     "output_type": "display_data"
    }
   ],
   "source": [
    "import pandas as pd\n",
    "import seaborn as sns\n",
    "import matplotlib.pyplot as plt\n",
    "\n",
    "# Requête SQL pour récupérer les données nutritionnelles\n",
    "query = \"\"\"\n",
    "SELECT fat_100g, carbohydrates_100g, proteins_100g, fiber_100g, salt_100g, sugars_100g, energy_kcal_100g\n",
    "FROM off_nutritional_values\n",
    "WHERE fat_100g IS NOT NULL\n",
    "  AND carbohydrates_100g IS NOT NULL\n",
    "  AND proteins_100g IS NOT NULL\n",
    "  AND fiber_100g IS NOT NULL\n",
    "  AND salt_100g IS NOT NULL\n",
    "  AND sugars_100g IS NOT NULL\n",
    "  AND energy_kcal_100g IS NOT NULL;\n",
    "\"\"\"\n",
    "df = pd.read_sql(query, connection)\n",
    "\n",
    "# Calculer la matrice de corrélation\n",
    "correlation_matrix = df.corr()\n",
    "\n",
    "# Afficher la matrice de corrélation sous forme de heatmap\n",
    "plt.figure(figsize=(10, 8))\n",
    "sns.heatmap(correlation_matrix, annot=True, cmap='coolwarm', fmt=\".2f\")\n",
    "plt.title('Matrice de corrélation des valeurs nutritionnelles')\n",
    "plt.show()"
   ]
  },
  {
   "cell_type": "markdown",
   "metadata": {},
   "source": [
    "On observe des corrélations cohérentes, notamment une forte corrélation entre `carbohydrates_100g` et `sugars_100g`. Les sucres étant une sous-catégorie des glucides, cette corrélation élevée est attendue. De même, les corrélations significatives entre `energy_kcal_100g` et `fat_100g`, `carbohydrates_100g`, `proteins_100g` sont logiques, ces trois macronutriments étant les principaux contributeurs à l'apport calorique.\n",
    "\n",
    "Cependant, certaines valeurs de corrélation peuvent sembler anormales. Cela pourrait s'expliquer par la présence d'un nombre important de valeurs manquantes ou par une faible variance dans certaines colonnes, ce qui peut impacter la fiabilité du calcul des coefficients de corrélation.\n",
    "\n"
   ]
  },
  {
   "cell_type": "markdown",
   "metadata": {},
   "source": [
    "Ci-dessous un aperçu de la proportion de valeurs manquantes dans les données concernant des valeurs nutritionnelles spécifiques."
   ]
  },
  {
   "cell_type": "code",
   "execution_count": 15,
   "metadata": {},
   "outputs": [
    {
     "name": "stderr",
     "output_type": "stream",
     "text": [
      "/tmp/ipykernel_727154/184750650.py:11: UserWarning: pandas only supports SQLAlchemy connectable (engine/connection) or database string URI or sqlite3 DBAPI2 connection. Other DBAPI2 objects are not tested. Please consider using SQLAlchemy.\n",
      "  df9 = pd.read_sql(query, connection)\n"
     ]
    },
    {
     "data": {
      "text/html": [
       "<div>\n",
       "<style scoped>\n",
       "    .dataframe tbody tr th:only-of-type {\n",
       "        vertical-align: middle;\n",
       "    }\n",
       "\n",
       "    .dataframe tbody tr th {\n",
       "        vertical-align: top;\n",
       "    }\n",
       "\n",
       "    .dataframe thead th {\n",
       "        text-align: right;\n",
       "    }\n",
       "</style>\n",
       "<table border=\"1\" class=\"dataframe\">\n",
       "  <thead>\n",
       "    <tr style=\"text-align: right;\">\n",
       "      <th></th>\n",
       "      <th>total_rows</th>\n",
       "      <th>missing_proteins</th>\n",
       "      <th>missing_sugars</th>\n",
       "      <th>missing_carbohydrates</th>\n",
       "      <th>missing_energy_kcal</th>\n",
       "    </tr>\n",
       "  </thead>\n",
       "  <tbody>\n",
       "    <tr>\n",
       "      <th>0</th>\n",
       "      <td>3753262</td>\n",
       "      <td>996558</td>\n",
       "      <td>1096548</td>\n",
       "      <td>997226</td>\n",
       "      <td>1018166</td>\n",
       "    </tr>\n",
       "  </tbody>\n",
       "</table>\n",
       "</div>"
      ],
      "text/plain": [
       "   total_rows  missing_proteins  missing_sugars  missing_carbohydrates  \\\n",
       "0     3753262            996558         1096548                 997226   \n",
       "\n",
       "   missing_energy_kcal  \n",
       "0              1018166  "
      ]
     },
     "execution_count": 15,
     "metadata": {},
     "output_type": "execute_result"
    }
   ],
   "source": [
    "\n",
    "\n",
    "# Requête SQL pour récupérer les données nutritionnelles\n",
    "query = \"\"\"\n",
    "SELECT \n",
    "    COUNT(*) AS total_rows,\n",
    "    SUM(CASE WHEN proteins_100g IS NULL THEN 1 ELSE 0 END) AS missing_proteins,\n",
    "    SUM(CASE WHEN sugars_100g IS NULL THEN 1 ELSE 0 END) AS missing_sugars,\n",
    "    SUM(CASE WHEN carbohydrates_100g IS NULL THEN 1 ELSE 0 END) AS missing_carbohydrates,\n",
    "    SUM(CASE WHEN energy_kcal_100g IS NULL THEN 1 ELSE 0 END) AS missing_energy_kcal\n",
    "FROM off_nutritional_values;\n",
    "\"\"\"\n",
    "df9 = pd.read_sql(query, connection)\n",
    "df9.head()\n"
   ]
  },
  {
   "cell_type": "markdown",
   "metadata": {},
   "source": [
    "Nous constatons entre 25 et 30 % de valeurs manquantes dans ces colonnes."
   ]
  },
  {
   "cell_type": "markdown",
   "metadata": {},
   "source": [
    " Nous allons a présent réaliser des requêtes d'analyses sur le nutri-score afin de mesurer la qualité nutritionnelle des aliments et avoir une évaluation précise de leur impact sur la santé, en tenant compte des critères tels que la teneur en matières grasses, en sucre, en sel, ainsi que la présence de nutriments bénéfiques comme les fibres et les protéines."
   ]
  },
  {
   "cell_type": "markdown",
   "metadata": {},
   "source": [
    "---"
   ]
  },
  {
   "cell_type": "markdown",
   "metadata": {},
   "source": [
    "## Impact Environnemental \n",
    "\n",
    "Cette section explore les données relatives à l'impact environnemental des produits, notamment le score environnemental, l'empreinte carbone et les informations sur les ingrédients d'origine animale. Nous analyserons les tendances et les différences entre les catégories de produits.  \n",
    "Ces analyses vous permettront de pouvoir intégrer ces considérations dans vos futures recommandations pour promouvoir si vous le souhaitez des choix alimentaires bénéfiques à la fois pour la santé et l'environnement."
   ]
  },
  {
   "cell_type": "markdown",
   "metadata": {},
   "source": [
    "#### Distribution des scores environmentaux"
   ]
  },
  {
   "cell_type": "markdown",
   "metadata": {},
   "source": [
    "Où se situe la France en termes de scores environnementaux par rapport aux autres nations ?  \n",
    "\n",
    "Tout d'abord, vérifions les 10 origines les plus fréquentes des produits en fonction de leur occurrence dans les produits alimentaires."
   ]
  },
  {
   "cell_type": "code",
   "execution_count": 18,
   "metadata": {},
   "outputs": [
    {
     "name": "stderr",
     "output_type": "stream",
     "text": [
      "/tmp/ipykernel_727154/3479536583.py:12: UserWarning: pandas only supports SQLAlchemy connectable (engine/connection) or database string URI or sqlite3 DBAPI2 connection. Other DBAPI2 objects are not tested. Please consider using SQLAlchemy.\n",
      "  df10 = pd.read_sql(query, connection)\n"
     ]
    },
    {
     "data": {
      "text/html": [
       "<div>\n",
       "<style scoped>\n",
       "    .dataframe tbody tr th:only-of-type {\n",
       "        vertical-align: middle;\n",
       "    }\n",
       "\n",
       "    .dataframe tbody tr th {\n",
       "        vertical-align: top;\n",
       "    }\n",
       "\n",
       "    .dataframe thead th {\n",
       "        text-align: right;\n",
       "    }\n",
       "</style>\n",
       "<table border=\"1\" class=\"dataframe\">\n",
       "  <thead>\n",
       "    <tr style=\"text-align: right;\">\n",
       "      <th></th>\n",
       "      <th>origin</th>\n",
       "      <th>count</th>\n",
       "    </tr>\n",
       "  </thead>\n",
       "  <tbody>\n",
       "    <tr>\n",
       "      <th>0</th>\n",
       "      <td>en:france</td>\n",
       "      <td>40625</td>\n",
       "    </tr>\n",
       "    <tr>\n",
       "      <th>1</th>\n",
       "      <td>en:italy</td>\n",
       "      <td>10734</td>\n",
       "    </tr>\n",
       "    <tr>\n",
       "      <th>2</th>\n",
       "      <td>en:european-union</td>\n",
       "      <td>8307</td>\n",
       "    </tr>\n",
       "    <tr>\n",
       "      <th>3</th>\n",
       "      <td>en:spain</td>\n",
       "      <td>7772</td>\n",
       "    </tr>\n",
       "    <tr>\n",
       "      <th>4</th>\n",
       "      <td>en:germany</td>\n",
       "      <td>6660</td>\n",
       "    </tr>\n",
       "    <tr>\n",
       "      <th>5</th>\n",
       "      <td>en:united-states</td>\n",
       "      <td>3968</td>\n",
       "    </tr>\n",
       "    <tr>\n",
       "      <th>6</th>\n",
       "      <td>en:mexico</td>\n",
       "      <td>3552</td>\n",
       "    </tr>\n",
       "    <tr>\n",
       "      <th>7</th>\n",
       "      <td>en:united-kingdom</td>\n",
       "      <td>3053</td>\n",
       "    </tr>\n",
       "    <tr>\n",
       "      <th>8</th>\n",
       "      <td>en:argentina</td>\n",
       "      <td>2501</td>\n",
       "    </tr>\n",
       "    <tr>\n",
       "      <th>9</th>\n",
       "      <td>en:brazil</td>\n",
       "      <td>2490</td>\n",
       "    </tr>\n",
       "  </tbody>\n",
       "</table>\n",
       "</div>"
      ],
      "text/plain": [
       "              origin  count\n",
       "0          en:france  40625\n",
       "1           en:italy  10734\n",
       "2  en:european-union   8307\n",
       "3           en:spain   7772\n",
       "4         en:germany   6660\n",
       "5   en:united-states   3968\n",
       "6          en:mexico   3552\n",
       "7  en:united-kingdom   3053\n",
       "8       en:argentina   2501\n",
       "9          en:brazil   2490"
      ]
     },
     "execution_count": 18,
     "metadata": {},
     "output_type": "execute_result"
    }
   ],
   "source": [
    "#affiche le nombre d'occurence de chaque origine des produits\n",
    "query = \"\"\"\n",
    "SELECT \n",
    "    origins_tags AS origin,\n",
    "    COUNT(*) AS count\n",
    "FROM off_origins\n",
    "WHERE origins_tags IS NOT NULL\n",
    "GROUP BY origins_tags\n",
    "ORDER BY count DESC\n",
    "LIMIT 10;\n",
    "\"\"\"\n",
    "df10 = pd.read_sql(query, connection)\n",
    "df10"
   ]
  },
  {
   "cell_type": "markdown",
   "metadata": {},
   "source": [
    "On constate que la majorité des produits proviennent de France. Les trois principales origines sont la France, l'Italie et l'Union Européenne.\n",
    "\n",
    "Nous nous concentrerons sur ces trois origines: **France**, **l'Italie** et **l'Union Europeenne** pour les analyses suivantes."
   ]
  },
  {
   "cell_type": "code",
   "execution_count": 24,
   "metadata": {},
   "outputs": [
    {
     "name": "stderr",
     "output_type": "stream",
     "text": [
      "/tmp/ipykernel_727154/2065796590.py:13: UserWarning: pandas only supports SQLAlchemy connectable (engine/connection) or database string URI or sqlite3 DBAPI2 connection. Other DBAPI2 objects are not tested. Please consider using SQLAlchemy.\n",
      "  df11 = pd.read_sql(query, connection)\n"
     ]
    },
    {
     "data": {
      "text/html": [
       "<div>\n",
       "<style scoped>\n",
       "    .dataframe tbody tr th:only-of-type {\n",
       "        vertical-align: middle;\n",
       "    }\n",
       "\n",
       "    .dataframe tbody tr th {\n",
       "        vertical-align: top;\n",
       "    }\n",
       "\n",
       "    .dataframe thead th {\n",
       "        text-align: right;\n",
       "    }\n",
       "</style>\n",
       "<table border=\"1\" class=\"dataframe\">\n",
       "  <thead>\n",
       "    <tr style=\"text-align: right;\">\n",
       "      <th></th>\n",
       "      <th>origin</th>\n",
       "      <th>product_name</th>\n",
       "      <th>environmental_grade</th>\n",
       "    </tr>\n",
       "  </thead>\n",
       "  <tbody>\n",
       "    <tr>\n",
       "      <th>0</th>\n",
       "      <td>en:european-union</td>\n",
       "      <td>sugo alle olive</td>\n",
       "      <td>a</td>\n",
       "    </tr>\n",
       "    <tr>\n",
       "      <th>1</th>\n",
       "      <td>en:european-union</td>\n",
       "      <td>Grand Arôme 32% de Cacao</td>\n",
       "      <td>a</td>\n",
       "    </tr>\n",
       "    <tr>\n",
       "      <th>2</th>\n",
       "      <td>en:european-union</td>\n",
       "      <td>Maes Honey - Miel de fleurs en pot de 3 Kg</td>\n",
       "      <td>a</td>\n",
       "    </tr>\n",
       "    <tr>\n",
       "      <th>3</th>\n",
       "      <td>en:european-union</td>\n",
       "      <td>Le fresche biscottate</td>\n",
       "      <td>a</td>\n",
       "    </tr>\n",
       "    <tr>\n",
       "      <th>4</th>\n",
       "      <td>en:european-union</td>\n",
       "      <td>Gnocchi chèvre epinard</td>\n",
       "      <td>a</td>\n",
       "    </tr>\n",
       "    <tr>\n",
       "      <th>...</th>\n",
       "      <td>...</td>\n",
       "      <td>...</td>\n",
       "      <td>...</td>\n",
       "    </tr>\n",
       "    <tr>\n",
       "      <th>59661</th>\n",
       "      <td>en:italy</td>\n",
       "      <td>DIVELLA Arroz Arbório Divella Italiano</td>\n",
       "      <td>None</td>\n",
       "    </tr>\n",
       "    <tr>\n",
       "      <th>59662</th>\n",
       "      <td>en:italy</td>\n",
       "      <td>Spirali, PASTA ITALIANA</td>\n",
       "      <td>None</td>\n",
       "    </tr>\n",
       "    <tr>\n",
       "      <th>59663</th>\n",
       "      <td>en:italy</td>\n",
       "      <td>Queso Gorgonzola</td>\n",
       "      <td>None</td>\n",
       "    </tr>\n",
       "    <tr>\n",
       "      <th>59664</th>\n",
       "      <td>en:italy</td>\n",
       "      <td>Farfalline</td>\n",
       "      <td>None</td>\n",
       "    </tr>\n",
       "    <tr>\n",
       "      <th>59665</th>\n",
       "      <td>en:italy</td>\n",
       "      <td>Italian Sparkling Mineral Water</td>\n",
       "      <td>None</td>\n",
       "    </tr>\n",
       "  </tbody>\n",
       "</table>\n",
       "<p>59666 rows × 3 columns</p>\n",
       "</div>"
      ],
      "text/plain": [
       "                  origin                                product_name  \\\n",
       "0      en:european-union                             sugo alle olive   \n",
       "1      en:european-union                    Grand Arôme 32% de Cacao   \n",
       "2      en:european-union  Maes Honey - Miel de fleurs en pot de 3 Kg   \n",
       "3      en:european-union                       Le fresche biscottate   \n",
       "4      en:european-union                      Gnocchi chèvre epinard   \n",
       "...                  ...                                         ...   \n",
       "59661           en:italy      DIVELLA Arroz Arbório Divella Italiano   \n",
       "59662           en:italy                     Spirali, PASTA ITALIANA   \n",
       "59663           en:italy                            Queso Gorgonzola   \n",
       "59664           en:italy                                  Farfalline   \n",
       "59665           en:italy             Italian Sparkling Mineral Water   \n",
       "\n",
       "      environmental_grade  \n",
       "0                       a  \n",
       "1                       a  \n",
       "2                       a  \n",
       "3                       a  \n",
       "4                       a  \n",
       "...                   ...  \n",
       "59661                None  \n",
       "59662                None  \n",
       "59663                None  \n",
       "59664                None  \n",
       "59665                None  \n",
       "\n",
       "[59666 rows x 3 columns]"
      ]
     },
     "execution_count": 24,
     "metadata": {},
     "output_type": "execute_result"
    }
   ],
   "source": [
    "#distribution des grades environnementaux par origine\n",
    "query = \"\"\"\n",
    "SELECT \n",
    "    o.origins_tags AS origin,\n",
    "    p.product_name AS product_name,\n",
    "    e.environmental_score_grade AS environmental_grade\n",
    "FROM off_product_infos p\n",
    "JOIN off_environmental_infos e ON p.id = e.id\n",
    "JOIN off_origins o ON p.id = o.id\n",
    "WHERE o.origins_tags IN ('en:france', 'en:italy', 'en:european-union')\n",
    "ORDER BY o.origins_tags, e.environmental_score_grade;\n",
    "\"\"\"\n",
    "df11 = pd.read_sql(query, connection)\n",
    "df11"
   ]
  },
  {
   "cell_type": "code",
   "execution_count": 21,
   "metadata": {},
   "outputs": [
    {
     "data": {
      "image/png": "[encoded data removed]",
      "text/plain": [
       "<Figure size 1000x600 with 1 Axes>"
      ]
     },
     "metadata": {},
     "output_type": "display_data"
    }
   ],
   "source": [
    "# Créer un countplot pour visualiser la distribution des grades environnementaux par origine\n",
    "plt.figure(figsize=(10, 6))\n",
    "sns.countplot(data=df11, x='origin', hue='environmental_grade', palette='Set2')\n",
    "plt.xlabel('Origine')\n",
    "plt.ylabel('Nombre de produits')\n",
    "plt.title('Distribution des grades environnementaux par origine')\n",
    "plt.legend(title='Grade environnemental', bbox_to_anchor=(1.05, 1), loc='upper left')\n",
    "plt.tight_layout()\n",
    "plt.show()"
   ]
  },
  {
   "cell_type": "markdown",
   "metadata": {},
   "source": [
    "On remarque que la France se distingue par une forte concentration de produits classés **A-plus**, suivis des grades **C**, **B** et **D**. Cette tendance peut refléter une meilleure catégorisation ou un plus grand nombre de produits référencés avec un étiquetage environnemental avancé. Le nombre élevé de produits en **A-plus** est particulièrement notable (plus de 10 000 produits), ce qui peut indiquer soit une réelle meilleure performance environnementale des produits français, soit un biais de saisie ou de disponibilité des données.\n",
    "\n",
    "L'Italie, en revanche, présente une répartition plus équilibrée entre les différents grades, avec une part importante de produits notés **A**, **A-plus** et **C**, mais globalement moins de produits référencés par rapport à la France. Il est également intéressant de noter un nombre non négligeable de produits dont le grade est \"**unknown**\", ce qui peut traduire un manque de données ou une absence de labellisation.\n",
    "\n",
    "Enfin, l'Union européenne affiche une répartition plus dispersée entre les différents grades, avec toutefois une prédominance relative des grades **D** et **unknown**.\n"
   ]
  },
  {
   "cell_type": "code",
   "execution_count": 26,
   "metadata": {},
   "outputs": [
    {
     "name": "stderr",
     "output_type": "stream",
     "text": [
      "/tmp/ipykernel_727154/1491999655.py:13: UserWarning: pandas only supports SQLAlchemy connectable (engine/connection) or database string URI or sqlite3 DBAPI2 connection. Other DBAPI2 objects are not tested. Please consider using SQLAlchemy.\n",
      "  df12 = pd.read_sql(query, connection)\n"
     ]
    },
    {
     "data": {
      "text/html": [
       "<div>\n",
       "<style scoped>\n",
       "    .dataframe tbody tr th:only-of-type {\n",
       "        vertical-align: middle;\n",
       "    }\n",
       "\n",
       "    .dataframe tbody tr th {\n",
       "        vertical-align: top;\n",
       "    }\n",
       "\n",
       "    .dataframe thead th {\n",
       "        text-align: right;\n",
       "    }\n",
       "</style>\n",
       "<table border=\"1\" class=\"dataframe\">\n",
       "  <thead>\n",
       "    <tr style=\"text-align: right;\">\n",
       "      <th></th>\n",
       "      <th>product_name</th>\n",
       "      <th>environmental_score</th>\n",
       "      <th>carbon_footprint</th>\n",
       "    </tr>\n",
       "  </thead>\n",
       "  <tbody>\n",
       "    <tr>\n",
       "      <th>0</th>\n",
       "      <td>Lindahl's Kvarg - saveur framboise</td>\n",
       "      <td>99</td>\n",
       "      <td>None</td>\n",
       "    </tr>\n",
       "    <tr>\n",
       "      <th>1</th>\n",
       "      <td>Yaourts à la grecque 4 Vanille 4 Coco 4 Citron</td>\n",
       "      <td>99</td>\n",
       "      <td>None</td>\n",
       "    </tr>\n",
       "    <tr>\n",
       "      <th>2</th>\n",
       "      <td>Olives dénoyautées à la grecque et à l'huile d...</td>\n",
       "      <td>99</td>\n",
       "      <td>None</td>\n",
       "    </tr>\n",
       "    <tr>\n",
       "      <th>3</th>\n",
       "      <td>Vinaigre balsamique</td>\n",
       "      <td>99</td>\n",
       "      <td>None</td>\n",
       "    </tr>\n",
       "    <tr>\n",
       "      <th>4</th>\n",
       "      <td>Yaourt a la cerise avec morceaux</td>\n",
       "      <td>99</td>\n",
       "      <td>None</td>\n",
       "    </tr>\n",
       "    <tr>\n",
       "      <th>5</th>\n",
       "      <td>Fraise Charlotte Barquette 250g X 16</td>\n",
       "      <td>99</td>\n",
       "      <td>None</td>\n",
       "    </tr>\n",
       "    <tr>\n",
       "      <th>6</th>\n",
       "      <td>Fromage blanc nature 0% MG</td>\n",
       "      <td>99</td>\n",
       "      <td>None</td>\n",
       "    </tr>\n",
       "    <tr>\n",
       "      <th>7</th>\n",
       "      <td>Vinaigre de Modène balsamique</td>\n",
       "      <td>99</td>\n",
       "      <td>None</td>\n",
       "    </tr>\n",
       "    <tr>\n",
       "      <th>8</th>\n",
       "      <td>Semoule De Millet 2,5kg</td>\n",
       "      <td>99</td>\n",
       "      <td>None</td>\n",
       "    </tr>\n",
       "    <tr>\n",
       "      <th>9</th>\n",
       "      <td>Pomme de terre</td>\n",
       "      <td>99</td>\n",
       "      <td>None</td>\n",
       "    </tr>\n",
       "  </tbody>\n",
       "</table>\n",
       "</div>"
      ],
      "text/plain": [
       "                                        product_name environmental_score  \\\n",
       "0                 Lindahl's Kvarg - saveur framboise                  99   \n",
       "1     Yaourts à la grecque 4 Vanille 4 Coco 4 Citron                  99   \n",
       "2  Olives dénoyautées à la grecque et à l'huile d...                  99   \n",
       "3                                Vinaigre balsamique                  99   \n",
       "4                   Yaourt a la cerise avec morceaux                  99   \n",
       "5               Fraise Charlotte Barquette 250g X 16                  99   \n",
       "6                         Fromage blanc nature 0% MG                  99   \n",
       "7                      Vinaigre de Modène balsamique                  99   \n",
       "8                            Semoule De Millet 2,5kg                  99   \n",
       "9                                     Pomme de terre                  99   \n",
       "\n",
       "  carbon_footprint  \n",
       "0             None  \n",
       "1             None  \n",
       "2             None  \n",
       "3             None  \n",
       "4             None  \n",
       "5             None  \n",
       "6             None  \n",
       "7             None  \n",
       "8             None  \n",
       "9             None  "
      ]
     },
     "execution_count": 26,
     "metadata": {},
     "output_type": "execute_result"
    }
   ],
   "source": [
    "#affiche les 10 produits ayant les scores environnementaux les plus eleves(impact environnemental negatif)\n",
    "query = \"\"\"\n",
    "SELECT \n",
    "    p.product_name AS product_name,\n",
    "    e.environmental_score_score AS environmental_score,\n",
    "    e.carbon_footprint_100g AS carbon_footprint\n",
    "FROM off_product_infos p\n",
    "JOIN off_environmental_infos e ON p.id = e.id\n",
    "WHERE e.environmental_score_score IS NOT NULL\n",
    "ORDER BY e.environmental_score_score DESC\n",
    "LIMIT 10;\n",
    "\"\"\"\n",
    "df12 = pd.read_sql(query, connection)\n",
    "df12"
   ]
  },
  {
   "cell_type": "code",
   "execution_count": 34,
   "metadata": {},
   "outputs": [
    {
     "name": "stderr",
     "output_type": "stream",
     "text": [
      "/tmp/ipykernel_727154/2337753239.py:11: UserWarning: pandas only supports SQLAlchemy connectable (engine/connection) or database string URI or sqlite3 DBAPI2 connection. Other DBAPI2 objects are not tested. Please consider using SQLAlchemy.\n",
      "  df14 = pd.read_sql(query, connection)\n"
     ]
    },
    {
     "data": {
      "text/html": [
       "<div>\n",
       "<style scoped>\n",
       "    .dataframe tbody tr th:only-of-type {\n",
       "        vertical-align: middle;\n",
       "    }\n",
       "\n",
       "    .dataframe tbody tr th {\n",
       "        vertical-align: top;\n",
       "    }\n",
       "\n",
       "    .dataframe thead th {\n",
       "        text-align: right;\n",
       "    }\n",
       "</style>\n",
       "<table border=\"1\" class=\"dataframe\">\n",
       "  <thead>\n",
       "    <tr style=\"text-align: right;\">\n",
       "      <th></th>\n",
       "      <th>product_name</th>\n",
       "      <th>carbon_footprint_from_meat_or_fish_100g</th>\n",
       "    </tr>\n",
       "  </thead>\n",
       "  <tbody>\n",
       "    <tr>\n",
       "      <th>0</th>\n",
       "      <td>Saucisses fumées</td>\n",
       "      <td>656298.600</td>\n",
       "    </tr>\n",
       "    <tr>\n",
       "      <th>1</th>\n",
       "      <td>Steaks haches 100% pur boeuf</td>\n",
       "      <td>35800.000</td>\n",
       "    </tr>\n",
       "    <tr>\n",
       "      <th>2</th>\n",
       "      <td>KNACKS</td>\n",
       "      <td>12232.200</td>\n",
       "    </tr>\n",
       "    <tr>\n",
       "      <th>3</th>\n",
       "      <td>Langue de Bœuf Sauce piquante</td>\n",
       "      <td>10740.000</td>\n",
       "    </tr>\n",
       "    <tr>\n",
       "      <th>4</th>\n",
       "      <td>Carpaccio</td>\n",
       "      <td>6802.000</td>\n",
       "    </tr>\n",
       "    <tr>\n",
       "      <th>...</th>\n",
       "      <td>...</td>\n",
       "      <td>...</td>\n",
       "    </tr>\n",
       "    <tr>\n",
       "      <th>12718</th>\n",
       "      <td>Tuiles apéritives goût Poulet braisé</td>\n",
       "      <td>0.294</td>\n",
       "    </tr>\n",
       "    <tr>\n",
       "      <th>12719</th>\n",
       "      <td>Colombo de porc et riz basmati</td>\n",
       "      <td>0.205</td>\n",
       "    </tr>\n",
       "    <tr>\n",
       "      <th>12720</th>\n",
       "      <td>Royco soep kip</td>\n",
       "      <td>0.196</td>\n",
       "    </tr>\n",
       "    <tr>\n",
       "      <th>12721</th>\n",
       "      <td>Royco Minute Soepen Veloute Gevogelte (doos 20...</td>\n",
       "      <td>0.049</td>\n",
       "    </tr>\n",
       "    <tr>\n",
       "      <th>12722</th>\n",
       "      <td>Royco Volaille crunchy</td>\n",
       "      <td>0.049</td>\n",
       "    </tr>\n",
       "  </tbody>\n",
       "</table>\n",
       "<p>12723 rows × 2 columns</p>\n",
       "</div>"
      ],
      "text/plain": [
       "                                            product_name  \\\n",
       "0                                       Saucisses fumées   \n",
       "1                           Steaks haches 100% pur boeuf   \n",
       "2                                                 KNACKS   \n",
       "3                          Langue de Bœuf Sauce piquante   \n",
       "4                                              Carpaccio   \n",
       "...                                                  ...   \n",
       "12718               Tuiles apéritives goût Poulet braisé   \n",
       "12719                     Colombo de porc et riz basmati   \n",
       "12720                                     Royco soep kip   \n",
       "12721  Royco Minute Soepen Veloute Gevogelte (doos 20...   \n",
       "12722                             Royco Volaille crunchy   \n",
       "\n",
       "       carbon_footprint_from_meat_or_fish_100g  \n",
       "0                                   656298.600  \n",
       "1                                    35800.000  \n",
       "2                                    12232.200  \n",
       "3                                    10740.000  \n",
       "4                                     6802.000  \n",
       "...                                        ...  \n",
       "12718                                    0.294  \n",
       "12719                                    0.205  \n",
       "12720                                    0.196  \n",
       "12721                                    0.049  \n",
       "12722                                    0.049  \n",
       "\n",
       "[12723 rows x 2 columns]"
      ]
     },
     "execution_count": 34,
     "metadata": {},
     "output_type": "execute_result"
    }
   ],
   "source": [
    "#comparaison des empreintes carbones entre produits contenant de la viande/poisson et ceux qui n'en contiennent pas\n",
    "query = \"\"\"\n",
    "SELECT \n",
    "    product_name,\n",
    "    carbon_footprint_from_meat_or_fish_100g\n",
    "FROM off_environmental_infos e\n",
    "JOIN off_product_infos p ON e.id = p.id\n",
    "WHERE carbon_footprint_from_meat_or_fish_100g IS NOT NULL\n",
    "ORDER BY carbon_footprint_from_meat_or_fish_100g DESC;\n",
    "\"\"\"\n",
    "df14 = pd.read_sql(query, connection)\n",
    "df14"
   ]
  },
  {
   "cell_type": "markdown",
   "metadata": {},
   "source": [
    "L'analyse de cette liste met en évidence une grande différence dans les valeurs d'empreinte carbone associées aux produits à base de viande ou de poisson. D'un côté, certains produits, comme les saucisses fumées et les steaks hachés 100% pur bœuf, affichent des valeurs exceptionnellement élevées (respectivement 656298,6 et 35800), mettant en lumière l'impact significatif de leur production sur les émissions de gaz à effet de serre. D'autre côté, des produits tels que les KNACKS et la langue de bœuf sauce piquante, présentent également des valeurs considérables (12232,2 et 10740), tandis que le carpaccio, avec une empreinte de 6802,0, indique un impact modéré mais toujours important. En revanche, certains produits, comme les tuiles apéritives goût poulet braisé, le colombo de porc avec riz basmati, et les soupes Royco, montrent des valeurs d'empreinte carbone très faibles, voire nulles, en raison de la faible contribution de la viande ou du poisson à leur composition, suggérant ainsi un impact environnemental négligeable, voire inexistant, de ces ingrédients.\n"
   ]
  },
  {
   "cell_type": "markdown",
   "metadata": {},
   "source": [
    "---"
   ]
  },
  {
   "cell_type": "markdown",
   "metadata": {},
   "source": [
    "## Utilisation de techniques de machine learning"
   ]
  },
  {
   "cell_type": "markdown",
   "metadata": {},
   "source": [
    "Ces analyses permettent de fournir des prédictions sur les données.\n",
    "\n",
    "Par exemple, nous avons beaucoup de valeur manquante pour les Nutri-Score, nous pouvons donc le prédire. Pour cela, nous allons utiliser des caractéristiques spécifiques tel certaines valeur nutritionnel."
   ]
  },
  {
   "cell_type": "markdown",
   "metadata": {},
   "source": [
    "Preparation des données:"
   ]
  },
  {
   "cell_type": "code",
   "execution_count": 9,
   "metadata": {},
   "outputs": [
    {
     "name": "stderr",
     "output_type": "stream",
     "text": [
      "/tmp/ipykernel_740380/2019759701.py:27: UserWarning: pandas only supports SQLAlchemy connectable (engine/connection) or database string URI or sqlite3 DBAPI2 connection. Other DBAPI2 objects are not tested. Please consider using SQLAlchemy.\n",
      "  df15 = pd.read_sql(query, connection)\n"
     ]
    },
    {
     "name": "stdout",
     "output_type": "stream",
     "text": [
      "Valeurs uniques avant nettoyage : ['not-applicable' 'e' 'unknown' 'd' None 'b' 'c' 'a']\n",
      "Valeurs uniques après nettoyage : ['e' 'd' 'b' 'c' 'a']\n"
     ]
    }
   ],
   "source": [
    "import pandas as pd\n",
    "from sklearn.model_selection import train_test_split\n",
    "#from sklearn.ensemble import RandomForestClassifier\n",
    "from sklearn.metrics import classification_report\n",
    "from sklearn.linear_model import LogisticRegression\n",
    "\n",
    "\n",
    "# Charger les données dans un DataFrame\n",
    "query = \"\"\"\n",
    "SELECT \n",
    "    p.product_name AS product_name,\n",
    "    ni.nutriscore_grade AS nutriscore_grade,\n",
    "    nv.proteins_100g AS proteins_100g,\n",
    "    nv.sugars_100g AS sugars_100g,\n",
    "    nv.carbohydrates_100g AS carbohydrates_100g,\n",
    "    nv.energy_kcal_100g AS energy_kcal_100g,\n",
    "    nv.fat_100g AS fat_100g,\n",
    "    nv.fiber_100g AS fiber_100g,\n",
    "    nv.saturated_fat_100g AS saturated_fat_100g,\n",
    "    nv.salt_100g AS salt_100g\n",
    "FROM off_product_infos p\n",
    "JOIN off_nutritional_infos ni ON p.id = ni.id\n",
    "JOIN off_nutritional_values nv ON p.id = nv.id;\n",
    "\"\"\"\n",
    "\n",
    "# Charger les données\n",
    "df15 = pd.read_sql(query, connection)\n",
    "\n",
    "# Vérifier les valeurs uniques de nutriscore_grade\n",
    "print(\"Valeurs uniques avant nettoyage :\", df15['nutriscore_grade'].unique())\n",
    "\n",
    "# Nettoyer les données : conserver uniquement les Nutri-Scores valides\n",
    "valid_scores = ['a', 'b', 'c', 'd', 'e']\n",
    "df15_train = df15[df15['nutriscore_grade'].isin(valid_scores)]\n",
    "\n",
    "# Vérifier les valeurs après nettoyage\n",
    "print(\"Valeurs uniques après nettoyage :\", df15_train['nutriscore_grade'].unique())\n",
    "\n",
    "# Séparer les produits avec et sans Nutri-Score\n",
    "df15_predict = df15[df15['nutriscore_grade'].isna()]  # Produits sans Nutri-Score\n",
    "\n",
    "\n",
    "# Sélectionner les colonnes pertinentes\n",
    "features = ['proteins_100g', 'sugars_100g', 'carbohydrates_100g', 'energy_kcal_100g', \n",
    "            'fat_100g', 'fiber_100g', 'saturated_fat_100g', 'salt_100g']\n",
    "X = df15_train[features]\n",
    "y = df15_train['nutriscore_grade']\n",
    "\n",
    "# Remplacer les valeurs manquantes par la moyenne\n",
    "X = X.fillna(X.mean())\n",
    "X_predict = df15_predict[features].fillna(X.mean())"
   ]
  },
  {
   "cell_type": "code",
   "execution_count": null,
   "metadata": {},
   "outputs": [
    {
     "name": "stderr",
     "output_type": "stream",
     "text": [
      "/tmp/ipykernel_740380/224464235.py:13: UserWarning: pandas only supports SQLAlchemy connectable (engine/connection) or database string URI or sqlite3 DBAPI2 connection. Other DBAPI2 objects are not tested. Please consider using SQLAlchemy.\n",
      "  df15 = pd.read_sql(query, connection)\n"
     ]
    },
    {
     "data": {
      "text/html": [
       "<div>\n",
       "<style scoped>\n",
       "    .dataframe tbody tr th:only-of-type {\n",
       "        vertical-align: middle;\n",
       "    }\n",
       "\n",
       "    .dataframe tbody tr th {\n",
       "        vertical-align: top;\n",
       "    }\n",
       "\n",
       "    .dataframe thead th {\n",
       "        text-align: right;\n",
       "    }\n",
       "</style>\n",
       "<table border=\"1\" class=\"dataframe\">\n",
       "  <thead>\n",
       "    <tr style=\"text-align: right;\">\n",
       "      <th></th>\n",
       "      <th>nutriscore_grade</th>\n",
       "      <th>count</th>\n",
       "    </tr>\n",
       "  </thead>\n",
       "  <tbody>\n",
       "    <tr>\n",
       "      <th>0</th>\n",
       "      <td>unknown</td>\n",
       "      <td>2408775</td>\n",
       "    </tr>\n",
       "    <tr>\n",
       "      <th>1</th>\n",
       "      <td>e</td>\n",
       "      <td>349472</td>\n",
       "    </tr>\n",
       "    <tr>\n",
       "      <th>2</th>\n",
       "      <td>d</td>\n",
       "      <td>313810</td>\n",
       "    </tr>\n",
       "    <tr>\n",
       "      <th>3</th>\n",
       "      <td>c</td>\n",
       "      <td>254586</td>\n",
       "    </tr>\n",
       "    <tr>\n",
       "      <th>4</th>\n",
       "      <td>a</td>\n",
       "      <td>173953</td>\n",
       "    </tr>\n",
       "  </tbody>\n",
       "</table>\n",
       "</div>"
      ],
      "text/plain": [
       "  nutriscore_grade    count\n",
       "0          unknown  2408775\n",
       "1                e   349472\n",
       "2                d   313810\n",
       "3                c   254586\n",
       "4                a   173953"
      ]
     },
     "execution_count": 23,
     "metadata": {},
     "output_type": "execute_result"
    }
   ],
   "source": [
    "\n",
    "# Charger les données dans un DataFrame\n",
    "query = \"\"\"\n",
    "SELECT \n",
    "    ni.nutriscore_grade AS nutriscore_grade,\n",
    "    COUNT(*) AS count\n",
    "FROM off_nutritional_infos ni\n",
    "WHERE ni.nutriscore_grade IS NOT NULL\n",
    "GROUP BY ni.nutriscore_grade\n",
    "ORDER BY count DESC;\n",
    "\"\"\"\n",
    "\n",
    "# Charger les données\n",
    "df15 = pd.read_sql(query, connection)\n",
    "df15.head()"
   ]
  },
  {
   "cell_type": "markdown",
   "metadata": {},
   "source": [
    "Entrainement du modèle:"
   ]
  },
  {
   "cell_type": "code",
   "execution_count": 10,
   "metadata": {},
   "outputs": [
    {
     "name": "stderr",
     "output_type": "stream",
     "text": [
      "/home/hammani/Documents/ProjetTutore/mon_env/lib/python3.12/site-packages/sklearn/linear_model/_logistic.py:465: ConvergenceWarning: lbfgs failed to converge (status=1):\n",
      "STOP: TOTAL NO. OF ITERATIONS REACHED LIMIT.\n",
      "\n",
      "Increase the number of iterations (max_iter) or scale the data as shown in:\n",
      "    https://scikit-learn.org/stable/modules/preprocessing.html\n",
      "Please also refer to the documentation for alternative solver options:\n",
      "    https://scikit-learn.org/stable/modules/linear_model.html#logistic-regression\n",
      "  n_iter_i = _check_optimize_result(\n",
      "/home/hammani/Documents/ProjetTutore/mon_env/lib/python3.12/site-packages/sklearn/metrics/_classification.py:1565: UndefinedMetricWarning: Precision is ill-defined and being set to 0.0 in labels with no predicted samples. Use `zero_division` parameter to control this behavior.\n",
      "  _warn_prf(average, modifier, f\"{metric.capitalize()} is\", len(result))\n",
      "/home/hammani/Documents/ProjetTutore/mon_env/lib/python3.12/site-packages/sklearn/metrics/_classification.py:1565: UndefinedMetricWarning: Precision is ill-defined and being set to 0.0 in labels with no predicted samples. Use `zero_division` parameter to control this behavior.\n",
      "  _warn_prf(average, modifier, f\"{metric.capitalize()} is\", len(result))\n"
     ]
    },
    {
     "name": "stdout",
     "output_type": "stream",
     "text": [
      "              precision    recall  f1-score   support\n",
      "\n",
      "           a       0.32      0.00      0.00     34825\n",
      "           b       0.00      0.00      0.00     28985\n",
      "           c       0.19      0.01      0.02     50939\n",
      "           d       0.00      0.00      0.00     62472\n",
      "           e       0.29      1.00      0.44     69943\n",
      "\n",
      "    accuracy                           0.29    247164\n",
      "   macro avg       0.16      0.20      0.09    247164\n",
      "weighted avg       0.17      0.29      0.13    247164\n",
      "\n"
     ]
    },
    {
     "name": "stderr",
     "output_type": "stream",
     "text": [
      "/home/hammani/Documents/ProjetTutore/mon_env/lib/python3.12/site-packages/sklearn/metrics/_classification.py:1565: UndefinedMetricWarning: Precision is ill-defined and being set to 0.0 in labels with no predicted samples. Use `zero_division` parameter to control this behavior.\n",
      "  _warn_prf(average, modifier, f\"{metric.capitalize()} is\", len(result))\n"
     ]
    }
   ],
   "source": [
    "# Diviser les données en ensembles d'entraînement et de validation\n",
    "X_train, X_val, y_train, y_val = train_test_split(X, y, test_size=0.2, random_state=42)\n",
    "\n",
    "# Entraîner un modèle Random Forest\n",
    "#model = RandomForestClassifier(random_state=42)\n",
    "model = LogisticRegression(random_state=42, max_iter=1000)\n",
    "model.fit(X_train, y_train)\n",
    "\n",
    "# Évaluer le modèle\n",
    "y_pred = model.predict(X_val)\n",
    "print(classification_report(y_val, y_pred))"
   ]
  },
  {
   "cell_type": "markdown",
   "metadata": {},
   "source": [
    "Prédiction:"
   ]
  },
  {
   "cell_type": "code",
   "execution_count": 11,
   "metadata": {},
   "outputs": [
    {
     "name": "stdout",
     "output_type": "stream",
     "text": [
      "        product_name predicted_nutriscore_grade\n",
      "9               None                          e\n",
      "74              None                          e\n",
      "81              None                          e\n",
      "126             None                          e\n",
      "183             None                          e\n",
      "...              ...                        ...\n",
      "3753122         None                          e\n",
      "3753205         None                          e\n",
      "3753210         None                          e\n",
      "3753216         None                          e\n",
      "3753251         None                          e\n",
      "\n",
      "[24300 rows x 2 columns]\n"
     ]
    },
    {
     "name": "stderr",
     "output_type": "stream",
     "text": [
      "/tmp/ipykernel_740380/1542757409.py:2: SettingWithCopyWarning: \n",
      "A value is trying to be set on a copy of a slice from a DataFrame.\n",
      "Try using .loc[row_indexer,col_indexer] = value instead\n",
      "\n",
      "See the caveats in the documentation: https://pandas.pydata.org/pandas-docs/stable/user_guide/indexing.html#returning-a-view-versus-a-copy\n",
      "  df15_predict['predicted_nutriscore_grade'] = model.predict(X_predict)\n"
     ]
    }
   ],
   "source": [
    "# Prédire les Nutri-Scores pour les produits sans Nutri-Score\n",
    "df15_predict['predicted_nutriscore_grade'] = model.predict(X_predict)\n",
    "\n",
    "# Afficher les résultats\n",
    "print(df15_predict[['product_name', 'predicted_nutriscore_grade']])"
   ]
  },
  {
   "cell_type": "markdown",
   "metadata": {},
   "source": [
    "Visualisation des résultats:"
   ]
  },
  {
   "cell_type": "code",
   "execution_count": 12,
   "metadata": {},
   "outputs": [
    {
     "name": "stderr",
     "output_type": "stream",
     "text": [
      "/tmp/ipykernel_740380/3914372671.py:2: FutureWarning: \n",
      "\n",
      "Passing `palette` without assigning `hue` is deprecated and will be removed in v0.14.0. Assign the `x` variable to `hue` and set `legend=False` for the same effect.\n",
      "\n",
      "  sns.countplot(data=df15_predict, x='predicted_nutriscore_grade', palette='Set2')\n"
     ]
    },
    {
     "data": {
      "image/png": "[encoded data removed]",
      "text/plain": [
       "<Figure size 640x480 with 1 Axes>"
      ]
     },
     "metadata": {},
     "output_type": "display_data"
    }
   ],
   "source": [
    "# Visualiser la distribution des Nutri-Scores prédits\n",
    "sns.countplot(data=df15_predict, x='predicted_nutriscore_grade', palette='Set2')\n",
    "plt.xlabel('Nutri-Score Prédiction')\n",
    "plt.ylabel('Nombre de Produits')\n",
    "plt.title('Distribution des Nutri-Scores Prédits')\n",
    "plt.show()"
   ]
  },
  {
   "cell_type": "code",
   "execution_count": 15,
   "metadata": {},
   "outputs": [
    {
     "name": "stdout",
     "output_type": "stream",
     "text": [
      "['e' 'd' 'b' 'c' 'a']\n"
     ]
    }
   ],
   "source": [
    "print(df15_train['nutriscore_grade'].unique())"
   ]
  },
  {
   "cell_type": "markdown",
   "metadata": {},
   "source": [
    "### Fermeture connexion base de Données"
   ]
  },
  {
   "cell_type": "code",
   "execution_count": 25,
   "metadata": {},
   "outputs": [
    {
     "name": "stdout",
     "output_type": "stream",
     "text": [
      "Connexion fermée\n"
     ]
    }
   ],
   "source": [
    "#fermeture connexion à la base de données\n",
    "connection.close()\n",
    "print(\"Connexion fermée\")"
   ]
  }
 ],
 "metadata": {
  "kernelspec": {
   "display_name": "mon_env",
   "language": "python",
   "name": "python3"
  },
  "language_info": {
   "codemirror_mode": {
    "name": "ipython",
    "version": 3
   },
   "file_extension": ".py",
   "mimetype": "text/x-python",
   "name": "python",
   "nbconvert_exporter": "python",
   "pygments_lexer": "ipython3",
   "version": "3.12.3"
  }
 },
 "nbformat": 4,
 "nbformat_minor": 2
}
